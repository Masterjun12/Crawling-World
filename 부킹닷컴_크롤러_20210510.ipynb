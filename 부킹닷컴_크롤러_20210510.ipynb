{
 "cells": [
  {
   "cell_type": "raw",
   "metadata": {},
   "source": [
    "성인 1명이 이번 주 주말에 놀러갈 제주도 숙소 리스트를 가져오고 싶을 때"
   ]
  },
  {
   "cell_type": "code",
   "execution_count": null,
   "metadata": {},
   "outputs": [],
   "source": [
    "# Step 0. 필요한 모듈과 라이브러리를 로딩합니다.\n",
    "import sys # 시스템\n",
    "import os  # 시스템\n",
    "\n",
    "import pandas as pd  # 판다스 : 데이터분석 라이브러리\n",
    "import numpy as np   # 넘파이 : 숫자, 행렬 데이터 라이브러리\n",
    "\n",
    "from bs4 import BeautifulSoup    # html 데이터를 전처리\n",
    "from selenium import webdriver   # 웹 브라우저 자동화\n",
    "import time    # 서버와 통신할 때 중간중간 시간 지연. 보통은 1초\n",
    "from tqdm import tqdm_notebook   # for문 돌릴 때 진행상황을 %게이지로 알려준다."
   ]
  },
  {
   "cell_type": "code",
   "execution_count": 398,
   "metadata": {},
   "outputs": [],
   "source": [
    "# 스크롤을 밑으로 내려주는 함수\n",
    "def scroll_down(driver):\n",
    "    driver.execute_script(\"window.scrollTo(0, 1000)\")\n",
    "    time.sleep(1)"
   ]
  },
  {
   "cell_type": "code",
   "execution_count": null,
   "metadata": {},
   "outputs": [],
   "source": [
    "# Step 1. 크롬 웹브라우저 실행\n",
    "driver = webdriver.Chrome(\"/Users/aiden/Desktop/chromedriver\")  # 윈도우는 \"chromedriver.exe\"\n",
    "url = \"https://www.booking.com/searchresults.ko.html?aid=397648&label=nav105jc-1FCAEoggI46AdIM1gDaH2IAQGYARe4AQfIAQzYAQHoAQH4AQyIAgGoAgO4Aov74IQGwAIB0gIkN2VjZDJjNjktMjAxZS00NjBlLTg3ZWQtY2JhMjY2MDljMmM42AIG4AIB&sid=e19b301d9f2ba429173c4b6aaa971bcd&tmpl=searchresults&checkin_month=5&checkin_monthday=15&checkin_year=2021&checkout_month=5&checkout_monthday=16&checkout_year=2021&class_interval=1&dest_id=4170&dest_type=region&dtdisc=0&from_sf=1&group_adults=1&group_children=0&inac=0&index_postcard=0&label_click=undef&no_rooms=1&postcard=0&raw_dest_type=region&room1=A&sb_price_type=total&search_selected=1&shw_aparth=1&slp_r_match=0&src=index&src_elem=sb&srpvid=d60890e0e8ae0830&ss=%EC%A0%9C%EC%A3%BC%EB%8F%84%2C%20%EB%8C%80%ED%95%9C%EB%AF%BC%EA%B5%AD&ss_all=0&ssb=empty&sshis=0&top_ufis=1&rows=25\\\n",
    "&offset={}\".format(page)\n",
    "    \n",
    "driver.get(url)\n",
    "time.sleep(2)"
   ]
  },
  {
   "cell_type": "markdown",
   "metadata": {},
   "source": [
    "# 데이터 크롤링"
   ]
  },
  {
   "cell_type": "code",
   "execution_count": 456,
   "metadata": {
    "scrolled": true
   },
   "outputs": [
    {
     "name": "stdout",
     "output_type": "stream",
     "text": [
      "크롤링 성공: \n",
      "hotel_list rating_list price_list room_list url_list\n",
      "25 25 25 25 25\n",
      "hotel_list rating_list price_list room_list url_list\n",
      "50 50 50 50 50\n",
      "hotel_list rating_list price_list room_list url_list\n",
      "75 75 75 75 75\n",
      "hotel_list rating_list price_list room_list url_list\n",
      "100 100 100 100 100\n",
      "hotel_list rating_list price_list room_list url_list\n",
      "125 125 125 125 125\n",
      "hotel_list rating_list price_list room_list url_list\n",
      "150 150 150 150 150\n",
      "hotel_list rating_list price_list room_list url_list\n",
      "175 175 175 175 175\n",
      "hotel_list rating_list price_list room_list url_list\n",
      "200 200 200 200 200\n",
      "hotel_list rating_list price_list room_list url_list\n",
      "225 225 225 225 225\n",
      "hotel_list rating_list price_list room_list url_list\n",
      "250 250 250 250 250\n",
      "크롤링 완료\n"
     ]
    }
   ],
   "source": [
    "# Step 1. 크롬 웹브라우저 실행\n",
    "driver = webdriver.Chrome(\"/Users/aiden/Desktop/chromedriver\")  # 윈도우는 \"chromedriver.exe\"\n",
    "url = \"https://www.booking.com/searchresults.ko.html?aid=397648&label=nav105jc-1FCAEoggI46AdIM1gDaH2IAQGYARe4AQfIAQzYAQHoAQH4AQyIAgGoAgO4Aov74IQGwAIB0gIkN2VjZDJjNjktMjAxZS00NjBlLTg3ZWQtY2JhMjY2MDljMmM42AIG4AIB&sid=e19b301d9f2ba429173c4b6aaa971bcd&tmpl=searchresults&checkin_month=5&checkin_monthday=15&checkin_year=2021&checkout_month=5&checkout_monthday=16&checkout_year=2021&class_interval=1&dest_id=4170&dest_type=region&dtdisc=0&from_sf=1&group_adults=1&group_children=0&inac=0&index_postcard=0&label_click=undef&no_rooms=1&postcard=0&raw_dest_type=region&room1=A&sb_price_type=total&search_selected=1&shw_aparth=1&slp_r_match=0&src=index&src_elem=sb&srpvid=d60890e0e8ae0830&ss=%EC%A0%9C%EC%A3%BC%EB%8F%84%2C%20%EB%8C%80%ED%95%9C%EB%AF%BC%EA%B5%AD&ss_all=0&ssb=empty&sshis=0&top_ufis=1&rows=25\\\n",
    "&offset=0\"\n",
    "driver.get(url)\n",
    "time.sleep(2)\n",
    "\n",
    "hotel_list = []\n",
    "url_list=[]\n",
    "rating_list = []\n",
    "price_list = []\n",
    "room_list = []\n",
    "\n",
    "print(\"크롤링 성공: \")\n",
    "print('hotel', 'rating', 'price', 'room', 'url')\n",
    "\n",
    "page = 10   # 크롤링 원하는 페이지 수\n",
    "for i in range(0, page):\n",
    "    \n",
    "    # 호텔 이름\n",
    "    hotel_raw = driver.find_elements_by_css_selector('.sr-hotel__name')\n",
    "    for hotel in hotel_raw:\n",
    "        hotel = hotel.text\n",
    "        hotel_list.append(hotel)\n",
    "    # hotel_list = [ x for x in hotel_list if not x =='']\n",
    "    \n",
    "    # 별점 가져오기\n",
    "    rating_raw = driver.find_elements_by_css_selector('.sr_item_review_block')\n",
    "    for rating in rating_raw:\n",
    "        if '\\n' in rating.text:\n",
    "            rating = rating.text.split('\\n')[0]\n",
    "        else:\n",
    "            rating = rating.text\n",
    "        rating_list.append(rating)\n",
    "    \n",
    "    # 가격 가져오기\n",
    "    price_raw = driver.find_elements_by_css_selector('.roomPrice.sr_discount')\n",
    "    for price in price_raw:\n",
    "        if price.text.split('\\n') != ['']:\n",
    "            price = price.text.split('\\n')\n",
    "            price = [ x for x in price if x != '1박, 성인 1명'][0].split(' ')[-1]\n",
    "            price_list.append(price)\n",
    "    price_list = [x for x in price_list if not x =='']\n",
    "    \n",
    "    # 방 정보\n",
    "    room_raw = driver.find_elements_by_css_selector(\".room_link\")\n",
    "    for room in room_raw:\n",
    "        room_list.append(room.text.split('\\n')[0].replace(' -','').strip())\n",
    "    room_list = [ x for x in room_list if not x =='']\n",
    "    \n",
    "    # url\n",
    "    url_raw = driver.find_elements_by_css_selector(\".sr_item_photo_link.sr_hotel_preview_track\")\n",
    "    for url in url_raw:\n",
    "        url = url.get_attribute('href')\n",
    "        url_list.append(url)\n",
    "    time.sleep(1)\n",
    "    # url_list = [ x for x in url_list if not x =='']\n",
    "    \n",
    "    # 크롤링 성공한 갯수\n",
    "    print(len(hotel_list),len(rating_list),len(price_list),len(room_list),len(url_list))\n",
    "    \n",
    "    # 다음 페이지 이동\n",
    "    driver.find_element_by_css_selector('.bk-icon.-iconset-navarrow_right.bui-pagination__icon').click()\n",
    "    time.sleep(3)\n",
    "    scroll_down(driver)\n",
    "    time.sleep(2)\n",
    "    \n",
    "print(\"크롤링 완료\")"
   ]
  },
  {
   "cell_type": "code",
   "execution_count": 457,
   "metadata": {},
   "outputs": [
    {
     "name": "stdout",
     "output_type": "stream",
     "text": [
      "250\n",
      "250\n",
      "250\n",
      "250\n",
      "250\n"
     ]
    }
   ],
   "source": [
    "print(len(hotel_list))\n",
    "print(len(room_list))\n",
    "print(len(price_list))\n",
    "print(len(rating_list))\n",
    "print(len(url_list))"
   ]
  },
  {
   "cell_type": "code",
   "execution_count": 458,
   "metadata": {},
   "outputs": [
    {
     "data": {
      "text/html": [
       "<div>\n",
       "<style scoped>\n",
       "    .dataframe tbody tr th:only-of-type {\n",
       "        vertical-align: middle;\n",
       "    }\n",
       "\n",
       "    .dataframe tbody tr th {\n",
       "        vertical-align: top;\n",
       "    }\n",
       "\n",
       "    .dataframe thead th {\n",
       "        text-align: right;\n",
       "    }\n",
       "</style>\n",
       "<table border=\"1\" class=\"dataframe\">\n",
       "  <thead>\n",
       "    <tr style=\"text-align: right;\">\n",
       "      <th></th>\n",
       "      <th>hotel</th>\n",
       "      <th>rating</th>\n",
       "      <th>room</th>\n",
       "      <th>url</th>\n",
       "      <th>price</th>\n",
       "    </tr>\n",
       "  </thead>\n",
       "  <tbody>\n",
       "    <tr>\n",
       "      <th>0</th>\n",
       "      <td>신신호텔 서귀포</td>\n",
       "      <td>8.6</td>\n",
       "      <td>Standard Ondol Room(Single use)</td>\n",
       "      <td>https://www.booking.com/hotel/kr/sinsinhotel-s...</td>\n",
       "      <td>₩39,980</td>\n",
       "    </tr>\n",
       "    <tr>\n",
       "      <th>1</th>\n",
       "      <td>롯데호텔 제주</td>\n",
       "      <td>8.6</td>\n",
       "      <td>한실 패밀리룸</td>\n",
       "      <td>https://www.booking.com/hotel/kr/lotte-jeju.ko...</td>\n",
       "      <td>₩514,552</td>\n",
       "    </tr>\n",
       "    <tr>\n",
       "      <th>2</th>\n",
       "      <td>랜딩관 제주신화월드 호텔앤리조트</td>\n",
       "      <td>8.3</td>\n",
       "      <td>수페리어 트윈룸</td>\n",
       "      <td>https://www.booking.com/hotel/kr/jeju-shinhwa-...</td>\n",
       "      <td>₩220,000</td>\n",
       "    </tr>\n",
       "    <tr>\n",
       "      <th>3</th>\n",
       "      <td>메종 글래드 제주</td>\n",
       "      <td>8.1</td>\n",
       "      <td>디럭스 트윈룸</td>\n",
       "      <td>https://www.booking.com/hotel/kr/jeju-grand.ko...</td>\n",
       "      <td>₩175,500</td>\n",
       "    </tr>\n",
       "    <tr>\n",
       "      <th>4</th>\n",
       "      <td>서머셋 제주신화월드</td>\n",
       "      <td>8.6</td>\n",
       "      <td>패밀리 스위트룸 한실 (온돌)</td>\n",
       "      <td>https://www.booking.com/hotel/kr/somerset-jeju...</td>\n",
       "      <td>₩660,000</td>\n",
       "    </tr>\n",
       "    <tr>\n",
       "      <th>...</th>\n",
       "      <td>...</td>\n",
       "      <td>...</td>\n",
       "      <td>...</td>\n",
       "      <td>...</td>\n",
       "      <td>...</td>\n",
       "    </tr>\n",
       "    <tr>\n",
       "      <th>245</th>\n",
       "      <td>보우힐 리조트 &amp; 펜션</td>\n",
       "      <td>9.0</td>\n",
       "      <td>스튜디오 (성인 3명)</td>\n",
       "      <td>https://www.booking.com/hotel/kr/windhill-reso...</td>\n",
       "      <td>₩62,790</td>\n",
       "    </tr>\n",
       "    <tr>\n",
       "      <th>246</th>\n",
       "      <td>브릿지 레지던스 호텔</td>\n",
       "      <td>9.3</td>\n",
       "      <td>스탠다드 더블룸</td>\n",
       "      <td>https://www.booking.com/hotel/kr/beurisjirejid...</td>\n",
       "      <td>₩45,000</td>\n",
       "    </tr>\n",
       "    <tr>\n",
       "      <th>247</th>\n",
       "      <td>써니 데이 제주</td>\n",
       "      <td>9.3</td>\n",
       "      <td>디럭스 스튜디오</td>\n",
       "      <td>https://www.booking.com/hotel/kr/sunny-day-jej...</td>\n",
       "      <td>₩144,000</td>\n",
       "    </tr>\n",
       "    <tr>\n",
       "      <th>248</th>\n",
       "      <td>제주도 하숙집</td>\n",
       "      <td>9.4</td>\n",
       "      <td>남성 전용 도미토리룸 내 이층침대</td>\n",
       "      <td>https://www.booking.com/hotel/kr/jejudo-hasugj...</td>\n",
       "      <td>₩20,020</td>\n",
       "    </tr>\n",
       "    <tr>\n",
       "      <th>249</th>\n",
       "      <td>레슬리 호텔</td>\n",
       "      <td>7.8</td>\n",
       "      <td>더블룸</td>\n",
       "      <td>https://www.booking.com/hotel/kr/reseulrihotel...</td>\n",
       "      <td>₩48,230</td>\n",
       "    </tr>\n",
       "  </tbody>\n",
       "</table>\n",
       "<p>250 rows × 5 columns</p>\n",
       "</div>"
      ],
      "text/plain": [
       "                 hotel rating                             room  \\\n",
       "0             신신호텔 서귀포    8.6  Standard Ondol Room(Single use)   \n",
       "1              롯데호텔 제주    8.6                          한실 패밀리룸   \n",
       "2    랜딩관 제주신화월드 호텔앤리조트    8.3                         수페리어 트윈룸   \n",
       "3            메종 글래드 제주    8.1                          디럭스 트윈룸   \n",
       "4           서머셋 제주신화월드    8.6                 패밀리 스위트룸 한실 (온돌)   \n",
       "..                 ...    ...                              ...   \n",
       "245       보우힐 리조트 & 펜션    9.0                     스튜디오 (성인 3명)   \n",
       "246        브릿지 레지던스 호텔    9.3                         스탠다드 더블룸   \n",
       "247           써니 데이 제주    9.3                         디럭스 스튜디오   \n",
       "248            제주도 하숙집    9.4               남성 전용 도미토리룸 내 이층침대   \n",
       "249             레슬리 호텔    7.8                              더블룸   \n",
       "\n",
       "                                                   url     price  \n",
       "0    https://www.booking.com/hotel/kr/sinsinhotel-s...   ₩39,980  \n",
       "1    https://www.booking.com/hotel/kr/lotte-jeju.ko...  ₩514,552  \n",
       "2    https://www.booking.com/hotel/kr/jeju-shinhwa-...  ₩220,000  \n",
       "3    https://www.booking.com/hotel/kr/jeju-grand.ko...  ₩175,500  \n",
       "4    https://www.booking.com/hotel/kr/somerset-jeju...  ₩660,000  \n",
       "..                                                 ...       ...  \n",
       "245  https://www.booking.com/hotel/kr/windhill-reso...   ₩62,790  \n",
       "246  https://www.booking.com/hotel/kr/beurisjirejid...   ₩45,000  \n",
       "247  https://www.booking.com/hotel/kr/sunny-day-jej...  ₩144,000  \n",
       "248  https://www.booking.com/hotel/kr/jejudo-hasugj...   ₩20,020  \n",
       "249  https://www.booking.com/hotel/kr/reseulrihotel...   ₩48,230  \n",
       "\n",
       "[250 rows x 5 columns]"
      ]
     },
     "execution_count": 458,
     "metadata": {},
     "output_type": "execute_result"
    }
   ],
   "source": [
    "# 데이터 프레임으로 만들기\n",
    "df = pd.DataFrame({'hotel':hotel_list, 'rating':rating_list, 'room':room_list, 'url':url_list, 'price':price_list})\n",
    "df    "
   ]
  },
  {
   "cell_type": "code",
   "execution_count": 459,
   "metadata": {},
   "outputs": [],
   "source": [
    "# 엑셀로 저장하기\n",
    "df.to_excel(\"booking_com.xlsx\", encoding='utf-8-sig')"
   ]
  },
  {
   "cell_type": "code",
   "execution_count": null,
   "metadata": {},
   "outputs": [],
   "source": []
  },
  {
   "cell_type": "code",
   "execution_count": null,
   "metadata": {},
   "outputs": [],
   "source": []
  },
  {
   "cell_type": "code",
   "execution_count": null,
   "metadata": {},
   "outputs": [],
   "source": []
  },
  {
   "cell_type": "code",
   "execution_count": null,
   "metadata": {},
   "outputs": [],
   "source": []
  },
  {
   "cell_type": "code",
   "execution_count": null,
   "metadata": {},
   "outputs": [],
   "source": []
  },
  {
   "cell_type": "markdown",
   "metadata": {},
   "source": [
    "# (참고 코드)"
   ]
  },
  {
   "cell_type": "code",
   "execution_count": 404,
   "metadata": {},
   "outputs": [
    {
     "name": "stdout",
     "output_type": "stream",
     "text": [
      "25\n"
     ]
    },
    {
     "data": {
      "text/plain": [
       "['호텔 더원',\n",
       " '빨간풍차펜션',\n",
       " '중문시티호텔',\n",
       " '베니키아 중문 호텔',\n",
       " 'Floral Hotel Haema',\n",
       " '제주 해호텔',\n",
       " '탑스텐 빌라 드 애월',\n",
       " '그림리조트',\n",
       " '호텔 화이트 하우스',\n",
       " '엘린 호텔',\n",
       " '아이진 호텔',\n",
       " '에코 그린 리조트 & 풀 빌라',\n",
       " '오션 그랜드 호텔',\n",
       " '제주 디 오션 힐 펜션',\n",
       " '제주 올레요 리조트',\n",
       " 'J2 패밀리 호텔',\n",
       " '제주 팔레스호텔',\n",
       " '수앤수 리조트',\n",
       " '제주 모슬포 호텔',\n",
       " '엘로망 펜션',\n",
       " '호텔 서귀피안',\n",
       " '호텔 앨리스 앤 트렁크',\n",
       " '하이 레지던스',\n",
       " '더 스테이 센츄리 호텔',\n",
       " '호텔 윈스토리']"
      ]
     },
     "execution_count": 404,
     "metadata": {},
     "output_type": "execute_result"
    }
   ],
   "source": [
    "# 호텔 이름\n",
    "hotel_raw = driver.find_elements_by_css_selector('.sr-hotel__name')\n",
    "hotel_list = []\n",
    "for hotel in hotel_raw:\n",
    "    hotel = hotel.text\n",
    "    hotel_list.append(hotel)\n",
    "    \n",
    "# hotel_list = [ x for x in hotel_list if not x =='']\n",
    "print(len(hotel_list))\n",
    "hotel_list"
   ]
  },
  {
   "cell_type": "code",
   "execution_count": 336,
   "metadata": {},
   "outputs": [
    {
     "name": "stdout",
     "output_type": "stream",
     "text": [
      "25\n"
     ]
    },
    {
     "data": {
      "text/plain": [
       "['https://www.booking.com/hotel/kr/thira.ko.html?aid=397648&label=nav105jc-1FCAEoggI46AdIM1gDaH2IAQGYARe4AQfIAQzYAQHoAQH4AQyIAgGoAgO4Aov74IQGwAIB0gIkN2VjZDJjNjktMjAxZS00NjBlLTg3ZWQtY2JhMjY2MDljMmM42AIG4AIB&sid=33206dff5c436860f6918613600ee658&all_sr_blocks=263598007_271762592_0_0_0&checkin=2021-05-15&checkout=2021-05-16&dest_id=4170&dest_type=region&group_adults=1&group_children=0&hapos=51&highlighted_blocks=263598007_271762592_0_0_0&hpos=1&no_rooms=1&req_adults=1&req_children=0&room1=A&sr_order=popularity&sr_pri_blocks=263598007_271762592_0_0_0__5576500&srepoch=1620641799&srpvid=9fe24843730e0017&ucfs=1&from=searchresults#hotelTmpl',\n",
       " 'https://www.booking.com/hotel/kr/robero-jeju.ko.html?aid=397648&label=nav105jc-1FCAEoggI46AdIM1gDaH2IAQGYARe4AQfIAQzYAQHoAQH4AQyIAgGoAgO4Aov74IQGwAIB0gIkN2VjZDJjNjktMjAxZS00NjBlLTg3ZWQtY2JhMjY2MDljMmM42AIG4AIB&sid=33206dff5c436860f6918613600ee658&all_sr_blocks=135458058_303330955_2_0_0&checkin=2021-05-15&checkout=2021-05-16&dest_id=4170&dest_type=region&group_adults=1&group_children=0&hapos=52&highlighted_blocks=135458058_303330955_2_0_0&hpos=2&no_rooms=1&req_adults=1&req_children=0&room1=A&sr_order=popularity&sr_pri_blocks=135458058_303330955_2_0_0__5745600&srepoch=1620641799&srpvid=9fe24843730e0017&ucfs=1&from=searchresults#hotelTmpl',\n",
       " 'https://www.booking.com/hotel/kr/jeju-arumdaun-resort.ko.html?aid=397648&label=nav105jc-1FCAEoggI46AdIM1gDaH2IAQGYARe4AQfIAQzYAQHoAQH4AQyIAgGoAgO4Aov74IQGwAIB0gIkN2VjZDJjNjktMjAxZS00NjBlLTg3ZWQtY2JhMjY2MDljMmM42AIG4AIB&sid=33206dff5c436860f6918613600ee658&all_sr_blocks=49449301_254759744_2_0_0&checkin=2021-05-15&checkout=2021-05-16&dest_id=4170&dest_type=region&group_adults=1&group_children=0&hapos=53&highlighted_blocks=49449301_254759744_2_0_0&hpos=3&no_rooms=1&req_adults=1&req_children=0&room1=A&sr_order=popularity&sr_pri_blocks=49449301_254759744_2_0_0__6174999&srepoch=1620641799&srpvid=9fe24843730e0017&ucfs=1&from=searchresults#hotelTmpl',\n",
       " 'https://www.booking.com/hotel/kr/sun-beach.ko.html?aid=397648&label=nav105jc-1FCAEoggI46AdIM1gDaH2IAQGYARe4AQfIAQzYAQHoAQH4AQyIAgGoAgO4Aov74IQGwAIB0gIkN2VjZDJjNjktMjAxZS00NjBlLTg3ZWQtY2JhMjY2MDljMmM42AIG4AIB&sid=33206dff5c436860f6918613600ee658&all_sr_blocks=24831618_229066786_2_2_0&checkin=2021-05-15&checkout=2021-05-16&dest_id=4170&dest_type=region&group_adults=1&group_children=0&hapos=54&highlighted_blocks=24831618_229066786_2_2_0&hpos=4&no_rooms=1&req_adults=1&req_children=0&room1=A&sr_order=popularity&sr_pri_blocks=24831618_229066786_2_2_0__6283109&srepoch=1620641799&srpvid=9fe24843730e0017&ucfs=1&from=searchresults#hotelTmpl',\n",
       " 'https://www.booking.com/hotel/kr/leo.ko.html?aid=397648&label=nav105jc-1FCAEoggI46AdIM1gDaH2IAQGYARe4AQfIAQzYAQHoAQH4AQyIAgGoAgO4Aov74IQGwAIB0gIkN2VjZDJjNjktMjAxZS00NjBlLTg3ZWQtY2JhMjY2MDljMmM42AIG4AIB&sid=33206dff5c436860f6918613600ee658&all_sr_blocks=116176043_265755224_2_2_0&checkin=2021-05-15&checkout=2021-05-16&dest_id=4170&dest_type=region&group_adults=1&group_children=0&hapos=55&highlighted_blocks=116176043_265755224_2_2_0&hpos=5&no_rooms=1&req_adults=1&req_children=0&room1=A&sr_order=popularity&sr_pri_blocks=116176043_265755224_2_2_0__8414312&srepoch=1620641799&srpvid=9fe24843730e0017&ucfs=1&from=searchresults#hotelTmpl',\n",
       " 'https://www.booking.com/hotel/kr/eden-hotelideun.ko.html?aid=397648&label=nav105jc-1FCAEoggI46AdIM1gDaH2IAQGYARe4AQfIAQzYAQHoAQH4AQyIAgGoAgO4Aov74IQGwAIB0gIkN2VjZDJjNjktMjAxZS00NjBlLTg3ZWQtY2JhMjY2MDljMmM42AIG4AIB&sid=33206dff5c436860f6918613600ee658&all_sr_blocks=407044809_179273233_2_2_0&checkin=2021-05-15&checkout=2021-05-16&dest_id=4170&dest_type=region&group_adults=1&group_children=0&hapos=56&highlighted_blocks=407044809_179273233_2_2_0&hpos=6&no_rooms=1&req_adults=1&req_children=0&room1=A&sr_order=popularity&sr_pri_blocks=407044809_179273233_2_2_0__4326300&srepoch=1620641799&srpvid=9fe24843730e0017&ucfs=1&from=searchresults#hotelTmpl',\n",
       " 'https://www.booking.com/hotel/kr/blue-hawaii.ko.html?aid=397648&label=nav105jc-1FCAEoggI46AdIM1gDaH2IAQGYARe4AQfIAQzYAQHoAQH4AQyIAgGoAgO4Aov74IQGwAIB0gIkN2VjZDJjNjktMjAxZS00NjBlLTg3ZWQtY2JhMjY2MDljMmM42AIG4AIB&sid=33206dff5c436860f6918613600ee658&all_sr_blocks=215307403_275784207_0_1_0&checkin=2021-05-15&checkout=2021-05-16&dest_id=4170&dest_type=region&group_adults=1&group_children=0&hapos=57&highlighted_blocks=215307403_275784207_0_1_0&hpos=7&no_rooms=1&req_adults=1&req_children=0&room1=A&sr_order=popularity&sr_pri_blocks=215307403_275784207_0_1_0__5499999&srepoch=1620641799&srpvid=9fe24843730e0017&ucfs=1&from=searchresults#hotelTmpl',\n",
       " 'https://www.booking.com/hotel/kr/grand-mer-jeju.ko.html?aid=397648&label=nav105jc-1FCAEoggI46AdIM1gDaH2IAQGYARe4AQfIAQzYAQHoAQH4AQyIAgGoAgO4Aov74IQGwAIB0gIkN2VjZDJjNjktMjAxZS00NjBlLTg3ZWQtY2JhMjY2MDljMmM42AIG4AIB&sid=33206dff5c436860f6918613600ee658&all_sr_blocks=188965522_265757672_0_2_0&checkin=2021-05-15&checkout=2021-05-16&dest_id=4170&dest_type=region&group_adults=1&group_children=0&hapos=58&highlighted_blocks=188965522_265757672_0_2_0&hpos=8&no_rooms=1&req_adults=1&req_children=0&room1=A&sr_order=popularity&sr_pri_blocks=188965522_265757672_0_2_0__5984999&srepoch=1620641799&srpvid=9fe24843730e0017&ucfs=1&from=searchresults#hotelTmpl',\n",
       " 'https://www.booking.com/hotel/kr/uni-jeju.ko.html?aid=397648&label=nav105jc-1FCAEoggI46AdIM1gDaH2IAQGYARe4AQfIAQzYAQHoAQH4AQyIAgGoAgO4Aov74IQGwAIB0gIkN2VjZDJjNjktMjAxZS00NjBlLTg3ZWQtY2JhMjY2MDljMmM42AIG4AIB&sid=33206dff5c436860f6918613600ee658&all_sr_blocks=141417611_145208349_4_2_0&checkin=2021-05-15&checkout=2021-05-16&dest_id=4170&dest_type=region&group_adults=1&group_children=0&hapos=59&highlighted_blocks=141417611_145208349_4_2_0&hpos=9&no_rooms=1&req_adults=1&req_children=0&room1=A&sr_order=popularity&sr_pri_blocks=141417611_145208349_4_2_0__50683069&srepoch=1620641799&srpvid=9fe24843730e0017&ucfs=1&from=searchresults#hotelTmpl',\n",
       " 'https://www.booking.com/hotel/kr/youus.ko.html?aid=397648&label=nav105jc-1FCAEoggI46AdIM1gDaH2IAQGYARe4AQfIAQzYAQHoAQH4AQyIAgGoAgO4Aov74IQGwAIB0gIkN2VjZDJjNjktMjAxZS00NjBlLTg3ZWQtY2JhMjY2MDljMmM42AIG4AIB&sid=33206dff5c436860f6918613600ee658&all_sr_blocks=183443002_258864565_0_2_0&checkin=2021-05-15&checkout=2021-05-16&dest_id=4170&dest_type=region&group_adults=1&group_children=0&hapos=60&highlighted_blocks=183443002_258864565_0_2_0&hpos=10&no_rooms=1&req_adults=1&req_children=0&room1=A&sr_order=popularity&sr_pri_blocks=183443002_258864565_0_2_0__8071200&srepoch=1620641799&srpvid=9fe24843730e0017&ucfs=1&from=searchresults#hotelTmpl',\n",
       " 'https://www.booking.com/hotel/kr/r-amp-t.ko.html?aid=397648&label=nav105jc-1FCAEoggI46AdIM1gDaH2IAQGYARe4AQfIAQzYAQHoAQH4AQyIAgGoAgO4Aov74IQGwAIB0gIkN2VjZDJjNjktMjAxZS00NjBlLTg3ZWQtY2JhMjY2MDljMmM42AIG4AIB&sid=33206dff5c436860f6918613600ee658&all_sr_blocks=147295904_193462694_2_0_0&checkin=2021-05-15&checkout=2021-05-16&dest_id=4170&dest_type=region&group_adults=1&group_children=0&hapos=61&highlighted_blocks=147295904_193462694_2_0_0&hpos=11&no_rooms=1&req_adults=1&req_children=0&room1=A&sr_order=popularity&sr_pri_blocks=147295904_193462694_2_0_0__3600500&srepoch=1620641799&srpvid=9fe24843730e0017&ucfs=1&from=searchresults#hotelTmpl',\n",
       " 'https://www.booking.com/hotel/kr/vistacay-seogwipo.ko.html?aid=397648&label=nav105jc-1FCAEoggI46AdIM1gDaH2IAQGYARe4AQfIAQzYAQHoAQH4AQyIAgGoAgO4Aov74IQGwAIB0gIkN2VjZDJjNjktMjAxZS00NjBlLTg3ZWQtY2JhMjY2MDljMmM42AIG4AIB&sid=33206dff5c436860f6918613600ee658&all_sr_blocks=133468520_325969970_0_2_0&checkin=2021-05-15&checkout=2021-05-16&dest_id=4170&dest_type=region&group_adults=1&group_children=0&hapos=62&highlighted_blocks=133468520_325969970_0_2_0&hpos=12&no_rooms=1&req_adults=1&req_children=0&room1=A&sr_order=popularity&sr_pri_blocks=133468520_325969970_0_2_0__3847500&srepoch=1620641799&srpvid=9fe24843730e0017&ucfs=1&from=searchresults#hotelTmpl',\n",
       " 'https://www.booking.com/hotel/kr/ssisaideuaden.ko.html?aid=397648&label=nav105jc-1FCAEoggI46AdIM1gDaH2IAQGYARe4AQfIAQzYAQHoAQH4AQyIAgGoAgO4Aov74IQGwAIB0gIkN2VjZDJjNjktMjAxZS00NjBlLTg3ZWQtY2JhMjY2MDljMmM42AIG4AIB&sid=33206dff5c436860f6918613600ee658&all_sr_blocks=524867603_265693754_6_0_0&checkin=2021-05-15&checkout=2021-05-16&dest_id=4170&dest_type=region&group_adults=1&group_children=0&hapos=63&highlighted_blocks=524867603_265693754_6_0_0&hpos=13&no_rooms=1&req_adults=1&req_children=0&room1=A&sr_order=popularity&sr_pri_blocks=524867603_265693754_6_0_0__38500000&srepoch=1620641799&srpvid=9fe24843730e0017&ucfs=1&from=searchresults#hotelTmpl',\n",
       " 'https://www.booking.com/hotel/kr/playce-camp-jeju.ko.html?aid=397648&label=nav105jc-1FCAEoggI46AdIM1gDaH2IAQGYARe4AQfIAQzYAQHoAQH4AQyIAgGoAgO4Aov74IQGwAIB0gIkN2VjZDJjNjktMjAxZS00NjBlLTg3ZWQtY2JhMjY2MDljMmM42AIG4AIB&sid=33206dff5c436860f6918613600ee658&all_sr_blocks=231321102_256554591_2_0_0&checkin=2021-05-15&checkout=2021-05-16&dest_id=4170&dest_type=region&group_adults=1&group_children=0&hapos=64&highlighted_blocks=231321102_256554591_2_0_0&hpos=14&no_rooms=1&req_adults=1&req_children=0&room1=A&sr_order=popularity&sr_pri_blocks=231321102_256554591_2_0_0__6206634&srepoch=1620641799&srpvid=9fe24843730e0017&ucfs=1&from=searchresults#hotelTmpl',\n",
       " 'https://www.booking.com/hotel/kr/bareve.ko.html?aid=397648&label=nav105jc-1FCAEoggI46AdIM1gDaH2IAQGYARe4AQfIAQzYAQHoAQH4AQyIAgGoAgO4Aov74IQGwAIB0gIkN2VjZDJjNjktMjAxZS00NjBlLTg3ZWQtY2JhMjY2MDljMmM42AIG4AIB&sid=33206dff5c436860f6918613600ee658&all_sr_blocks=87231722_259704811_1_0_0&checkin=2021-05-15&checkout=2021-05-16&dest_id=4170&dest_type=region&group_adults=1&group_children=0&hapos=65&highlighted_blocks=87231722_259704811_1_0_0&hpos=15&no_rooms=1&req_adults=1&req_children=0&room1=A&sr_order=popularity&sr_pri_blocks=87231722_259704811_1_0_0__5510000&srepoch=1620641799&srpvid=9fe24843730e0017&ucfs=1&from=searchresults#hotelTmpl',\n",
       " 'https://www.booking.com/hotel/kr/gold-one-amp-suites.ko.html?aid=397648&label=nav105jc-1FCAEoggI46AdIM1gDaH2IAQGYARe4AQfIAQzYAQHoAQH4AQyIAgGoAgO4Aov74IQGwAIB0gIkN2VjZDJjNjktMjAxZS00NjBlLTg3ZWQtY2JhMjY2MDljMmM42AIG4AIB&sid=33206dff5c436860f6918613600ee658&all_sr_blocks=515790004_325975597_2_2_0&checkin=2021-05-15&checkout=2021-05-16&dest_id=4170&dest_type=region&group_adults=1&group_children=0&hapos=66&highlighted_blocks=515790004_325975597_2_2_0&hpos=16&no_rooms=1&req_adults=1&req_children=0&room1=A&sr_order=popularity&sr_pri_blocks=515790004_325975597_2_2_0__25554999&srepoch=1620641799&srpvid=9fe24843730e0017&ucfs=1&from=searchresults#hotelTmpl',\n",
       " 'https://www.booking.com/hotel/kr/k-turn-and-resort.ko.html?aid=397648&label=nav105jc-1FCAEoggI46AdIM1gDaH2IAQGYARe4AQfIAQzYAQHoAQH4AQyIAgGoAgO4Aov74IQGwAIB0gIkN2VjZDJjNjktMjAxZS00NjBlLTg3ZWQtY2JhMjY2MDljMmM42AIG4AIB&sid=33206dff5c436860f6918613600ee658&all_sr_blocks=132560302_287459153_2_0_0&checkin=2021-05-15&checkout=2021-05-16&dest_id=4170&dest_type=region&group_adults=1&group_children=0&hapos=67&highlighted_blocks=132560302_287459153_2_0_0&hpos=17&no_rooms=1&req_adults=1&req_children=0&room1=A&sr_order=popularity&sr_pri_blocks=132560302_287459153_2_0_0__9975000&srepoch=1620641799&srpvid=9fe24843730e0017&ucfs=1&from=searchresults#hotelTmpl',\n",
       " 'https://www.booking.com/hotel/kr/aria.ko.html?aid=397648&label=nav105jc-1FCAEoggI46AdIM1gDaH2IAQGYARe4AQfIAQzYAQHoAQH4AQyIAgGoAgO4Aov74IQGwAIB0gIkN2VjZDJjNjktMjAxZS00NjBlLTg3ZWQtY2JhMjY2MDljMmM42AIG4AIB&sid=33206dff5c436860f6918613600ee658&all_sr_blocks=91225401_195194073_3_2_0&checkin=2021-05-15&checkout=2021-05-16&dest_id=4170&dest_type=region&group_adults=1&group_children=0&hapos=68&highlighted_blocks=91225401_195194073_3_2_0&hpos=18&no_rooms=1&req_adults=1&req_children=0&room1=A&sr_order=popularity&sr_pri_blocks=91225401_195194073_3_2_0__10687499&srepoch=1620641799&srpvid=9fe24843730e0017&ucfs=1&from=searchresults#hotelTmpl',\n",
       " 'https://www.booking.com/hotel/kr/osyeonseukweeo-rijoteu.ko.html?aid=397648&label=nav105jc-1FCAEoggI46AdIM1gDaH2IAQGYARe4AQfIAQzYAQHoAQH4AQyIAgGoAgO4Aov74IQGwAIB0gIkN2VjZDJjNjktMjAxZS00NjBlLTg3ZWQtY2JhMjY2MDljMmM42AIG4AIB&sid=33206dff5c436860f6918613600ee658&all_sr_blocks=275592103_270630798_2_0_0&checkin=2021-05-15&checkout=2021-05-16&dest_id=4170&dest_type=region&group_adults=1&group_children=0&hapos=69&highlighted_blocks=275592103_270630798_2_0_0&hpos=19&no_rooms=1&req_adults=1&req_children=0&room1=A&sr_order=popularity&sr_pri_blocks=275592103_270630798_2_0_0__5472000&srepoch=1620641799&srpvid=9fe24843730e0017&ucfs=1&from=searchresults#hotelTmpl',\n",
       " 'https://www.booking.com/hotel/kr/ciel-bleu.ko.html?aid=397648&label=nav105jc-1FCAEoggI46AdIM1gDaH2IAQGYARe4AQfIAQzYAQHoAQH4AQyIAgGoAgO4Aov74IQGwAIB0gIkN2VjZDJjNjktMjAxZS00NjBlLTg3ZWQtY2JhMjY2MDljMmM42AIG4AIB&sid=33206dff5c436860f6918613600ee658&all_sr_blocks=155344123_123047134_2_0_0&checkin=2021-05-15&checkout=2021-05-16&dest_id=4170&dest_type=region&group_adults=1&group_children=0&hapos=70&highlighted_blocks=155344123_123047134_2_0_0&hpos=20&no_rooms=1&req_adults=1&req_children=0&room1=A&sr_order=popularity&sr_pri_blocks=155344123_123047134_2_0_0__6507499&srepoch=1620641799&srpvid=9fe24843730e0017&ucfs=1&from=searchresults#hotelTmpl',\n",
       " 'https://www.booking.com/hotel/kr/urban-island-jeju.ko.html?aid=397648&label=nav105jc-1FCAEoggI46AdIM1gDaH2IAQGYARe4AQfIAQzYAQHoAQH4AQyIAgGoAgO4Aov74IQGwAIB0gIkN2VjZDJjNjktMjAxZS00NjBlLTg3ZWQtY2JhMjY2MDljMmM42AIG4AIB&sid=33206dff5c436860f6918613600ee658&all_sr_blocks=177043901_287386353_1_2_0&checkin=2021-05-15&checkout=2021-05-16&dest_id=4170&dest_type=region&group_adults=1&group_children=0&hapos=71&highlighted_blocks=177043901_287386353_1_2_0&hpos=21&no_rooms=1&req_adults=1&req_children=0&room1=A&sr_order=popularity&sr_pri_blocks=177043901_287386353_1_2_0__5984999&srepoch=1620641799&srpvid=9fe24843730e0017&ucfs=1&from=searchresults#hotelTmpl',\n",
       " 'https://www.booking.com/hotel/kr/avia.ko.html?aid=397648&label=nav105jc-1FCAEoggI46AdIM1gDaH2IAQGYARe4AQfIAQzYAQHoAQH4AQyIAgGoAgO4Aov74IQGwAIB0gIkN2VjZDJjNjktMjAxZS00NjBlLTg3ZWQtY2JhMjY2MDljMmM42AIG4AIB&sid=33206dff5c436860f6918613600ee658&all_sr_blocks=563678405_222227297_2_0_0&checkin=2021-05-15&checkout=2021-05-16&dest_id=4170&dest_type=region&group_adults=1&group_children=0&hapos=72&highlighted_blocks=563678405_222227297_2_0_0&hpos=22&no_rooms=1&req_adults=1&req_children=0&room1=A&sr_order=popularity&sr_pri_blocks=563678405_222227297_2_0_0__6070500&srepoch=1620641799&srpvid=9fe24843730e0017&ucfs=1&from=searchresults#hotelTmpl',\n",
       " 'https://www.booking.com/hotel/kr/jeju-pearl-tourist.ko.html?aid=397648&label=nav105jc-1FCAEoggI46AdIM1gDaH2IAQGYARe4AQfIAQzYAQHoAQH4AQyIAgGoAgO4Aov74IQGwAIB0gIkN2VjZDJjNjktMjAxZS00NjBlLTg3ZWQtY2JhMjY2MDljMmM42AIG4AIB&sid=33206dff5c436860f6918613600ee658&all_sr_blocks=238453705_309243017_0_2_0&checkin=2021-05-15&checkout=2021-05-16&dest_id=4170&dest_type=region&group_adults=1&group_children=0&hapos=73&highlighted_blocks=238453705_309243017_0_2_0&hpos=23&no_rooms=1&req_adults=1&req_children=0&room1=A&sr_order=popularity&sr_pri_blocks=238453705_309243017_0_2_0__3325000&srepoch=1620641799&srpvid=9fe24843730e0017&ucfs=1&from=searchresults#hotelTmpl',\n",
       " 'https://www.booking.com/hotel/kr/dk-seogwipo.ko.html?aid=397648&label=nav105jc-1FCAEoggI46AdIM1gDaH2IAQGYARe4AQfIAQzYAQHoAQH4AQyIAgGoAgO4Aov74IQGwAIB0gIkN2VjZDJjNjktMjAxZS00NjBlLTg3ZWQtY2JhMjY2MDljMmM42AIG4AIB&sid=33206dff5c436860f6918613600ee658&all_sr_blocks=434175603_264189213_2_0_0&checkin=2021-05-15&checkout=2021-05-16&dest_id=4170&dest_type=region&group_adults=1&group_children=0&hapos=74&highlighted_blocks=434175603_264189213_2_0_0&hpos=24&no_rooms=1&req_adults=1&req_children=0&room1=A&sr_order=popularity&sr_pri_blocks=434175603_264189213_2_0_0__5480999&srepoch=1620641799&srpvid=9fe24843730e0017&ucfs=1&from=searchresults#hotelTmpl',\n",
       " 'https://www.booking.com/hotel/kr/cordelia-resort.ko.html?aid=397648&label=nav105jc-1FCAEoggI46AdIM1gDaH2IAQGYARe4AQfIAQzYAQHoAQH4AQyIAgGoAgO4Aov74IQGwAIB0gIkN2VjZDJjNjktMjAxZS00NjBlLTg3ZWQtY2JhMjY2MDljMmM42AIG4AIB&sid=33206dff5c436860f6918613600ee658&all_sr_blocks=44426502_129106523_2_0_0&checkin=2021-05-15&checkout=2021-05-16&dest_id=4170&dest_type=region&group_adults=1&group_children=0&hapos=75&highlighted_blocks=44426502_129106523_2_0_0&hpos=25&no_rooms=1&req_adults=1&req_children=0&room1=A&sr_order=popularity&sr_pri_blocks=44426502_129106523_2_0_0__3565778&srepoch=1620641799&srpvid=9fe24843730e0017&ucfs=1&from=searchresults#hotelTmpl']"
      ]
     },
     "execution_count": 336,
     "metadata": {},
     "output_type": "execute_result"
    }
   ],
   "source": [
    "# url \n",
    "url_list=[]\n",
    "url_raw = driver.find_elements_by_css_selector(\".sr_item_photo_link.sr_hotel_preview_track\")\n",
    "\n",
    "for url in url_raw:\n",
    "    url = url.get_attribute('href')\n",
    "    url_list.append(url)\n",
    "    \n",
    "# url_list = [ x for x in url_list if not x =='']\n",
    "print(len(url_list))\n",
    "url_list"
   ]
  },
  {
   "cell_type": "code",
   "execution_count": 420,
   "metadata": {
    "scrolled": true
   },
   "outputs": [
    {
     "name": "stdout",
     "output_type": "stream",
     "text": [
      "25\n"
     ]
    },
    {
     "data": {
      "text/plain": [
       "['8.7',\n",
       " '7.1',\n",
       " '7.1',\n",
       " '9.7',\n",
       " '9.1',\n",
       " '7.7',\n",
       " '8.0',\n",
       " '6.8',\n",
       " '9.1',\n",
       " '',\n",
       " '5.8',\n",
       " '5.3',\n",
       " '',\n",
       " '8.8',\n",
       " '8.8',\n",
       " '7.7',\n",
       " '',\n",
       " '8.2',\n",
       " '8.9',\n",
       " '7.8',\n",
       " '7.8',\n",
       " '9.0',\n",
       " '9.3',\n",
       " '9.3',\n",
       " '9.4']"
      ]
     },
     "execution_count": 420,
     "metadata": {},
     "output_type": "execute_result"
    }
   ],
   "source": [
    "# 별점 가져오기\n",
    "rating_raw = driver.find_elements_by_css_selector('.sr_item_review_block')\n",
    "rating_list = []\n",
    "for rating in rating_raw:\n",
    "    if '\\n' in rating.text:\n",
    "        rating = rating.text.split('\\n')[0]\n",
    "    else:\n",
    "        rating = rating.text\n",
    "    rating_list.append(rating)\n",
    "    \n",
    "# rating_list = [ x for x in rating_list if not x =='']\n",
    "print(len(rating_list))\n",
    "rating_list"
   ]
  },
  {
   "cell_type": "code",
   "execution_count": 454,
   "metadata": {
    "scrolled": true
   },
   "outputs": [
    {
     "name": "stdout",
     "output_type": "stream",
     "text": [
      "25\n"
     ]
    },
    {
     "data": {
      "text/plain": [
       "['₩20,900',\n",
       " '₩51,300',\n",
       " '₩25,000',\n",
       " '₩25,000',\n",
       " '₩59,850',\n",
       " '₩50,000',\n",
       " '₩60,800',\n",
       " '₩25,000',\n",
       " '₩75,050',\n",
       " '₩31,350',\n",
       " '₩46,550',\n",
       " '₩38,000',\n",
       " '₩50,000',\n",
       " '₩45,000',\n",
       " '₩20,900',\n",
       " '₩50,696',\n",
       " '₩40,000',\n",
       " '₩346,332',\n",
       " '₩24,225',\n",
       " '₩23,750',\n",
       " '₩60,588',\n",
       " '₩40,000',\n",
       " '₩35,000',\n",
       " '₩25,000',\n",
       " '₩106,875']"
      ]
     },
     "execution_count": 454,
     "metadata": {},
     "output_type": "execute_result"
    }
   ],
   "source": [
    "# 가격 가져오기\n",
    "price_raw = driver.find_elements_by_css_selector('.roomPrice.sr_discount')\n",
    "price_list = []\n",
    "for price in price_raw:\n",
    "    if price.text.split('\\n') != ['']:\n",
    "        price = price.text.split('\\n')\n",
    "        price = [ x for x in price if x != '1박, 성인 1명'][0].split(' ')[-1]\n",
    "        price_list.append(price)\n",
    "price_list = [x for x in price_list if not x =='']\n",
    "print(len(price_list))\n",
    "price_list"
   ]
  },
  {
   "cell_type": "code",
   "execution_count": 376,
   "metadata": {},
   "outputs": [
    {
     "name": "stdout",
     "output_type": "stream",
     "text": [
      "25\n"
     ]
    },
    {
     "data": {
      "text/plain": [
       "['스탠다드 더블룸',\n",
       " '스탠다드 트리플룸',\n",
       " '스탠다드 더블룸',\n",
       " '스탠다드 트윈룸',\n",
       " '객실 체크인 시 배정',\n",
       " '특별 혜택 트윈룸 산 전망, 2인 무료 조식',\n",
       " '스탠다드 트윈룸 산 전망',\n",
       " '스위트룸 전용 온수 수영장',\n",
       " '스탠다드 더블룸',\n",
       " '싱글룸',\n",
       " '더블룸',\n",
       " '패밀리 스위트룸   × 6',\n",
       " '스탠다드 트윈룸',\n",
       " '스탠다드 싱글룸',\n",
       " '트윈룸 바다 전망',\n",
       " '스탠다드 트윈룸',\n",
       " '트윈룸',\n",
       " '패밀리 트윈룸 바다 전망',\n",
       " '디럭스 트윈룸 산 전망',\n",
       " '스탠다드룸',\n",
       " 'Standard Twin Room Ondol type',\n",
       " '수페리어 트윈룸',\n",
       " '스탠다드 싱글룸',\n",
       " '스탠다드 더블룸',\n",
       " '수페리어 트윈룸']"
      ]
     },
     "execution_count": 376,
     "metadata": {},
     "output_type": "execute_result"
    }
   ],
   "source": [
    "# 방 정보\n",
    "room_raw = driver.find_elements_by_css_selector(\".room_link\")\n",
    "room_list = []\n",
    "for room in room_raw:\n",
    "    room_list.append(room.text.split('\\n')[0].replace(' -','').strip())\n",
    "    \n",
    "room_list = [ x for x in room_list if not x =='']\n",
    "print(len(room_list))\n",
    "room_list"
   ]
  },
  {
   "cell_type": "code",
   "execution_count": null,
   "metadata": {},
   "outputs": [],
   "source": []
  },
  {
   "cell_type": "code",
   "execution_count": null,
   "metadata": {},
   "outputs": [],
   "source": []
  },
  {
   "cell_type": "code",
   "execution_count": null,
   "metadata": {},
   "outputs": [],
   "source": []
  },
  {
   "cell_type": "code",
   "execution_count": null,
   "metadata": {},
   "outputs": [],
   "source": []
  },
  {
   "cell_type": "code",
   "execution_count": null,
   "metadata": {},
   "outputs": [],
   "source": []
  },
  {
   "cell_type": "code",
   "execution_count": null,
   "metadata": {},
   "outputs": [],
   "source": []
  },
  {
   "cell_type": "code",
   "execution_count": null,
   "metadata": {},
   "outputs": [],
   "source": []
  },
  {
   "cell_type": "code",
   "execution_count": null,
   "metadata": {},
   "outputs": [],
   "source": []
  },
  {
   "cell_type": "code",
   "execution_count": null,
   "metadata": {},
   "outputs": [],
   "source": []
  },
  {
   "cell_type": "code",
   "execution_count": null,
   "metadata": {},
   "outputs": [],
   "source": []
  },
  {
   "cell_type": "code",
   "execution_count": null,
   "metadata": {},
   "outputs": [],
   "source": []
  },
  {
   "cell_type": "code",
   "execution_count": null,
   "metadata": {},
   "outputs": [],
   "source": []
  },
  {
   "cell_type": "code",
   "execution_count": null,
   "metadata": {},
   "outputs": [],
   "source": []
  },
  {
   "cell_type": "code",
   "execution_count": null,
   "metadata": {},
   "outputs": [],
   "source": []
  }
 ],
 "metadata": {
  "kernelspec": {
   "display_name": "Python 3",
   "language": "python",
   "name": "python3"
  },
  "language_info": {
   "codemirror_mode": {
    "name": "ipython",
    "version": 3
   },
   "file_extension": ".py",
   "mimetype": "text/x-python",
   "name": "python",
   "nbconvert_exporter": "python",
   "pygments_lexer": "ipython3",
   "version": "3.7.6"
  },
  "varInspector": {
   "cols": {
    "lenName": 16,
    "lenType": 16,
    "lenVar": 40
   },
   "kernels_config": {
    "python": {
     "delete_cmd_postfix": "",
     "delete_cmd_prefix": "del ",
     "library": "var_list.py",
     "varRefreshCmd": "print(var_dic_list())"
    },
    "r": {
     "delete_cmd_postfix": ") ",
     "delete_cmd_prefix": "rm(",
     "library": "var_list.r",
     "varRefreshCmd": "cat(var_dic_list()) "
    }
   },
   "types_to_exclude": [
    "module",
    "function",
    "builtin_function_or_method",
    "instance",
    "_Feature"
   ],
   "window_display": false
  }
 },
 "nbformat": 4,
 "nbformat_minor": 4
}
