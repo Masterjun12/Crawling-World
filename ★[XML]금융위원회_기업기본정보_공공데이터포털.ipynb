{
 "cells": [
  {
   "cell_type": "code",
   "execution_count": 22,
   "metadata": {},
   "outputs": [
    {
     "data": {
      "text/html": [
       "<style>.container { width: 100% !important; }</style>"
      ],
      "text/plain": [
       "<IPython.core.display.HTML object>"
      ]
     },
     "metadata": {},
     "output_type": "display_data"
    }
   ],
   "source": [
    "# 셀 사이즈 조정하는 코드\n",
    "from IPython.core.display import display, HTML\n",
    "display(HTML(\"<style>.container { width: 100% !important; }</style>\"))"
   ]
  },
  {
   "cell_type": "code",
   "execution_count": 45,
   "metadata": {},
   "outputs": [
    {
     "data": {
      "text/plain": [
       "'김천저축은행'"
      ]
     },
     "execution_count": 45,
     "metadata": {},
     "output_type": "execute_result"
    }
   ],
   "source": [
    "import requests\n",
    "\n",
    "requests.utils.unquote('%EA%B9%80%EC%B2%9C%EC%A0%80%EC%B6%95%EC%9D%80%ED%96%89')"
   ]
  },
  {
   "cell_type": "code",
   "execution_count": 42,
   "metadata": {},
   "outputs": [
    {
     "data": {
      "text/plain": [
       "<Response [200]>"
      ]
     },
     "execution_count": 42,
     "metadata": {},
     "output_type": "execute_result"
    }
   ],
   "source": [
    "import requests\n",
    "import xmltodict\n",
    "\n",
    "key='GK%2Bl5QlLpGSK9H3bruybzUiF%2BVA6xAMnyRYYaj8taJMMCFeqxwyCXCrby0aU9WnsaX8XmxzQrvU5mRBIrYLTMA%3D%3D'\n",
    "key_decode=requests.utils.unquote(key)\n",
    "key_decode\n",
    "\n",
    "# call back URL? + 서비스키 + 파라미터\n",
    "response=requests.get('http://apis.data.go.kr/1160100/service/GetCorpBasicInfoService/getAffiliate\\\n",
    "?pageNo=1&numOfRows=1&resultType=xml&fnccmpNm=%EA%B9%80%EC%B2%9C%EC%A0%80%EC%B6%95%EC%9D%80%ED%96%89\\\n",
    "&serviceKey=GK%2Bl5QlLpGSK9H3bruybzUiF%2BVA6xAMnyRYYaj8taJMMCFeqxwyCXCrby0aU9WnsaX8XmxzQrvU5mRBIrYLTMA%3D%3D'.format(key))\n",
    "\n",
    "response"
   ]
  },
  {
   "cell_type": "code",
   "execution_count": 44,
   "metadata": {},
   "outputs": [
    {
     "data": {
      "text/plain": [
       "OrderedDict([('response',\n",
       "              OrderedDict([('header',\n",
       "                            OrderedDict([('resultCode', '00'),\n",
       "                                         ('resultMsg', 'NORMAL SERVICE.')])),\n",
       "                           ('body',\n",
       "                            OrderedDict([('numOfRows', '1'),\n",
       "                                         ('pageNo', '1'),\n",
       "                                         ('totalCount', '2096'),\n",
       "                                         ('items',\n",
       "                                          OrderedDict([('item',\n",
       "                                                        OrderedDict([('afilCmpyCrno',\n",
       "                                                                      '1101110296073'),\n",
       "                                                                     ('afilCmpyNm',\n",
       "                                                                      '국보'),\n",
       "                                                                     ('basDt',\n",
       "                                                                      '20200423'),\n",
       "                                                                     ('crno',\n",
       "                                                                      '1101110296073'),\n",
       "                                                                     ('lstgYn',\n",
       "                                                                      None)]))]))]))]))])"
      ]
     },
     "execution_count": 44,
     "metadata": {},
     "output_type": "execute_result"
    }
   ],
   "source": [
    "# 가져온 xml 데이터를 dictionary 형태로 바꾸기(xmltodict 이용)\n",
    "xml_data = xmltodict.parse(response.text)\n",
    "xml_data"
   ]
  },
  {
   "cell_type": "code",
   "execution_count": null,
   "metadata": {},
   "outputs": [],
   "source": []
  }
 ],
 "metadata": {
  "kernelspec": {
   "display_name": "Python 3",
   "language": "python",
   "name": "python3"
  },
  "language_info": {
   "codemirror_mode": {
    "name": "ipython",
    "version": 3
   },
   "file_extension": ".py",
   "mimetype": "text/x-python",
   "name": "python",
   "nbconvert_exporter": "python",
   "pygments_lexer": "ipython3",
   "version": "3.7.6"
  }
 },
 "nbformat": 4,
 "nbformat_minor": 4
}
