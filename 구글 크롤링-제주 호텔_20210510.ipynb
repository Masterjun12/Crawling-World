{
 "cells": [
  {
   "cell_type": "code",
   "execution_count": 1,
   "metadata": {},
   "outputs": [],
   "source": [
    "#Step 0. 필요한 모듈과 라이브러리를 로딩합니다.\n",
    "import sys # 시스템\n",
    "import os  # 시스템\n",
    "\n",
    "import pandas as pd  # 판다스 : 데이터분석 라이브러리\n",
    "import numpy as np   # 넘파이 : 숫자, 행렬 데이터 라이브러리\n",
    "\n",
    "from bs4 import BeautifulSoup    # html 데이터를 전처리\n",
    "from selenium import webdriver   # 웹 브라우저 자동화\n",
    "import time    # 서버와 통신할 때 중간중간 시간 지연. 보통은 1초\n",
    "from tqdm import tqdm_notebook   # for문 돌릴 때 진행상황을 %게이지로 알려준다."
   ]
  },
  {
   "cell_type": "code",
   "execution_count": 2,
   "metadata": {},
   "outputs": [
    {
     "name": "stdout",
     "output_type": "stream",
     "text": [
      "1.크롤링할 키워드는 무엇입니까?: 제주 호텔\n"
     ]
    }
   ],
   "source": [
    "# 검색어 정의\n",
    "query_txt = input('1.크롤링할 키워드는 무엇입니까?: ')"
   ]
  },
  {
   "cell_type": "markdown",
   "metadata": {},
   "source": [
    "# 크롤링할 블로그 url 수집하기"
   ]
  },
  {
   "cell_type": "code",
   "execution_count": 56,
   "metadata": {},
   "outputs": [],
   "source": [
    "#Step 1. 크롬 웹브라우저 실행\n",
    "path = \"/Users/aiden/Desktop/chromedriver\"       # 윈도우는 \"chromedriver.exe\"\n",
    "\n",
    "driver = webdriver.Chrome(path)\n",
    "driver.get('http://www.google.com')\n",
    "time.sleep(2)  # 2초간 정지\n",
    "\n",
    "#Step 2. 검색창에 \"검색어\" 검색\n",
    "element = driver.find_element_by_css_selector(\".gLFyf.gsfi\")\n",
    "element.send_keys(query_txt)  # query_txt는 위에서 입력한 키워드\n",
    "element.submit()\n",
    "time.sleep(1)"
   ]
  },
  {
   "cell_type": "code",
   "execution_count": 61,
   "metadata": {},
   "outputs": [
    {
     "data": {
      "text/plain": [
       "'제주 인기 호텔 10곳 | 최저 ₩25,869부터 - Booking.com\\nhttps://www.booking.com › ... › 제주도 호텔'"
      ]
     },
     "execution_count": 61,
     "metadata": {},
     "output_type": "execute_result"
    }
   ],
   "source": [
    "# title_raw 크롤링 시작\n",
    "titles = \".g .yuRUbf .LC20lb.DKV0Md\"\n",
    "titles_raw = driver.find_elements_by_css_selector(articles)\n",
    "titles_raw[0].text"
   ]
  },
  {
   "cell_type": "code",
   "execution_count": 67,
   "metadata": {},
   "outputs": [
    {
     "data": {
      "text/html": [
       "<div>\n",
       "<style scoped>\n",
       "    .dataframe tbody tr th:only-of-type {\n",
       "        vertical-align: middle;\n",
       "    }\n",
       "\n",
       "    .dataframe tbody tr th {\n",
       "        vertical-align: top;\n",
       "    }\n",
       "\n",
       "    .dataframe thead th {\n",
       "        text-align: right;\n",
       "    }\n",
       "</style>\n",
       "<table border=\"1\" class=\"dataframe\">\n",
       "  <thead>\n",
       "    <tr style=\"text-align: right;\">\n",
       "      <th></th>\n",
       "      <th>url</th>\n",
       "      <th>title</th>\n",
       "    </tr>\n",
       "  </thead>\n",
       "  <tbody>\n",
       "    <tr>\n",
       "      <th>0</th>\n",
       "      <td>https://www.booking.com/city/kr/saektal-tong.k...</td>\n",
       "      <td>제주 인기 호텔 10곳 | 최저 ₩25,869부터 - Booking.com</td>\n",
       "    </tr>\n",
       "    <tr>\n",
       "      <th>1</th>\n",
       "      <td>https://www.tripadvisor.co.kr/Hotels-g297885-J...</td>\n",
       "      <td>2021년 제주 추천 호텔 베스트 10 - Tripadvisor - 트립어드바이저</td>\n",
       "    </tr>\n",
       "    <tr>\n",
       "      <th>2</th>\n",
       "      <td>https://www.tripadvisor.co.kr/Hotels-g983296-z...</td>\n",
       "      <td>제주도 5성급 호텔 추천 베스트 10 - Tripadvisor - 트립어드바이저</td>\n",
       "    </tr>\n",
       "    <tr>\n",
       "      <th>3</th>\n",
       "      <td>https://www.agoda.com/ko-kr/city/jeju-island-k...</td>\n",
       "      <td>제주도 베스트 호텔 30 - 무료 취소, 2021 대한민국 제주도 ...</td>\n",
       "    </tr>\n",
       "    <tr>\n",
       "      <th>4</th>\n",
       "      <td>https://www.hotelscombined.co.kr/Place/Jeju_Pr...</td>\n",
       "      <td>제주도 호텔: 2,855개의 제주도 특가 호텔, 대한민국</td>\n",
       "    </tr>\n",
       "    <tr>\n",
       "      <th>...</th>\n",
       "      <td>...</td>\n",
       "      <td>...</td>\n",
       "    </tr>\n",
       "    <tr>\n",
       "      <th>114</th>\n",
       "      <td>http://www.shillastay.com/</td>\n",
       "      <td>신라스테이</td>\n",
       "    </tr>\n",
       "    <tr>\n",
       "      <th>115</th>\n",
       "      <td>https://hilton.co.kr/</td>\n",
       "      <td>힐튼 호텔 &amp; 리조트</td>\n",
       "    </tr>\n",
       "    <tr>\n",
       "      <th>116</th>\n",
       "      <td>https://theshningworld.co.kr/103</td>\n",
       "      <td>제주도 가족여행 숙소추천 BEST 6 (호텔 &amp; 리조트)</td>\n",
       "    </tr>\n",
       "    <tr>\n",
       "      <th>117</th>\n",
       "      <td>http://www.lottetour.com/</td>\n",
       "      <td>롯데관광 모바일</td>\n",
       "    </tr>\n",
       "    <tr>\n",
       "      <th>118</th>\n",
       "      <td>https://astatour.com/</td>\n",
       "      <td>디아스타</td>\n",
       "    </tr>\n",
       "  </tbody>\n",
       "</table>\n",
       "<p>119 rows × 2 columns</p>\n",
       "</div>"
      ],
      "text/plain": [
       "                                                   url  \\\n",
       "0    https://www.booking.com/city/kr/saektal-tong.k...   \n",
       "1    https://www.tripadvisor.co.kr/Hotels-g297885-J...   \n",
       "2    https://www.tripadvisor.co.kr/Hotels-g983296-z...   \n",
       "3    https://www.agoda.com/ko-kr/city/jeju-island-k...   \n",
       "4    https://www.hotelscombined.co.kr/Place/Jeju_Pr...   \n",
       "..                                                 ...   \n",
       "114                         http://www.shillastay.com/   \n",
       "115                              https://hilton.co.kr/   \n",
       "116                   https://theshningworld.co.kr/103   \n",
       "117                          http://www.lottetour.com/   \n",
       "118                              https://astatour.com/   \n",
       "\n",
       "                                             title  \n",
       "0        제주 인기 호텔 10곳 | 최저 ₩25,869부터 - Booking.com  \n",
       "1    2021년 제주 추천 호텔 베스트 10 - Tripadvisor - 트립어드바이저  \n",
       "2     제주도 5성급 호텔 추천 베스트 10 - Tripadvisor - 트립어드바이저  \n",
       "3         제주도 베스트 호텔 30 - 무료 취소, 2021 대한민국 제주도 ...  \n",
       "4                  제주도 호텔: 2,855개의 제주도 특가 호텔, 대한민국  \n",
       "..                                             ...  \n",
       "114                                          신라스테이  \n",
       "115                                    힐튼 호텔 & 리조트  \n",
       "116                제주도 가족여행 숙소추천 BEST 6 (호텔 & 리조트)  \n",
       "117                                       롯데관광 모바일  \n",
       "118                                           디아스타  \n",
       "\n",
       "[119 rows x 2 columns]"
      ]
     },
     "execution_count": 67,
     "metadata": {},
     "output_type": "execute_result"
    }
   ],
   "source": [
    "url_list = []\n",
    "title_list = []\n",
    "\n",
    "n = 3  # 수집하고 싶은 페이지\n",
    "\n",
    "for i in range(0, 12):\n",
    "    driver = webdriver.Chrome(\"/Users/aiden/Desktop/chromedriver\")\n",
    "    url = \"https://www.google.com/search?q={}&ei=ruyXYM3pK5L8wQOg6LbYCA&start={}\\\n",
    "&sa=N&ved=2ahUKEwjN-PP54rzwAhUSfnAKHSC0DYsQ8tMDegQIAhA7\".format(query_txt, i*10)    \n",
    "    driver.get(url)\n",
    "    \n",
    "    # 컨텐츠 title, url 수집\n",
    "    \n",
    "\n",
    "    # title_raw 크롤링 시작\n",
    "    titles = \".g .yuRUbf .LC20lb.DKV0Md\"\n",
    "    titles_raw = driver.find_elements_by_css_selector(articles)\n",
    "\n",
    "    for title in titles_raw:\n",
    "        title_list.append(title.text.split(\"\\n\")[0])\n",
    "    \n",
    "    # url_raw 크롤링 시작\n",
    "    urls = \".g .yuRUbf > a\"\n",
    "    urls_raw = driver.find_elements_by_css_selector(urls)\n",
    "\n",
    "    for url in urls_raw:\n",
    "        url_list.append(url.get_attribute('href'))\n",
    "    \n",
    "    driver.close()\n",
    "    \n",
    "df = pd.DataFrame({'url':url_list, 'title':title_list})\n",
    "df    "
   ]
  },
  {
   "cell_type": "code",
   "execution_count": 49,
   "metadata": {},
   "outputs": [],
   "source": [
    "# # 1page에서 컨텐츠 제목, url \n",
    "\n",
    "# # 컨텐츠 url들 수집\n",
    "# url_list = []\n",
    "# title_list = []\n",
    "\n",
    "# # title_raw 크롤링 시작\n",
    "# titles = \".g .yuRUbf\"\n",
    "# titles_raw = driver.find_elements_by_css_selector(articles)\n",
    "\n",
    "# for title in titles_raw:\n",
    "#     title_list.append(title.text)\n",
    "# print(len(title_list))\n",
    "# print(title_list, '\\n')\n",
    "\n",
    "# # url_raw 크롤링 시작\n",
    "# urls = \".g .yuRUbf > a\"\n",
    "# urls_raw = driver.find_elements_by_css_selector(urls)\n",
    "\n",
    "# for url in urls_raw:\n",
    "#     url_list.append(url.get_attribute('href'))\n",
    "# print(len(url_list))\n",
    "# print(url_list)"
   ]
  },
  {
   "cell_type": "code",
   "execution_count": 68,
   "metadata": {},
   "outputs": [],
   "source": [
    "# 엑셀로 저장하기\n",
    "df.to_excel(\"google({}).xlsx\".format(query_txt), encoding='utf-8-sig')"
   ]
  },
  {
   "cell_type": "code",
   "execution_count": null,
   "metadata": {},
   "outputs": [],
   "source": []
  }
 ],
 "metadata": {
  "kernelspec": {
   "display_name": "Python 3",
   "language": "python",
   "name": "python3"
  },
  "language_info": {
   "codemirror_mode": {
    "name": "ipython",
    "version": 3
   },
   "file_extension": ".py",
   "mimetype": "text/x-python",
   "name": "python",
   "nbconvert_exporter": "python",
   "pygments_lexer": "ipython3",
   "version": "3.7.6"
  },
  "varInspector": {
   "cols": {
    "lenName": 16,
    "lenType": 16,
    "lenVar": 40
   },
   "kernels_config": {
    "python": {
     "delete_cmd_postfix": "",
     "delete_cmd_prefix": "del ",
     "library": "var_list.py",
     "varRefreshCmd": "print(var_dic_list())"
    },
    "r": {
     "delete_cmd_postfix": ") ",
     "delete_cmd_prefix": "rm(",
     "library": "var_list.r",
     "varRefreshCmd": "cat(var_dic_list()) "
    }
   },
   "types_to_exclude": [
    "module",
    "function",
    "builtin_function_or_method",
    "instance",
    "_Feature"
   ],
   "window_display": false
  }
 },
 "nbformat": 4,
 "nbformat_minor": 4
}
