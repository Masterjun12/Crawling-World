{
 "cells": [
  {
   "cell_type": "code",
   "execution_count": 3,
   "metadata": {},
   "outputs": [],
   "source": [
    "import pandas as pd\n",
    "import numpy as np"
   ]
  },
  {
   "cell_type": "code",
   "execution_count": 6,
   "metadata": {},
   "outputs": [],
   "source": [
    "# 라이브러리 import\n",
    "# 라이브러리 : 필요한 도구\n",
    "from selenium import webdriver  # 라이브러리(모듈) 가져오라\n",
    "from selenium.webdriver import ActionChains as AC\n",
    "from tqdm import tqdm\n",
    "from tqdm import tqdm_notebook\n",
    "import re\n",
    "from time import sleep\n",
    "import time"
   ]
  },
  {
   "cell_type": "code",
   "execution_count": 92,
   "metadata": {},
   "outputs": [
    {
     "data": {
      "text/plain": [
       "'김치볶음밥'"
      ]
     },
     "execution_count": 92,
     "metadata": {},
     "output_type": "execute_result"
    }
   ],
   "source": [
    "# 데이터 수집할 키워드 지정\n",
    "keyword = \"김치볶음밥\"\n",
    "keyword"
   ]
  },
  {
   "cell_type": "markdown",
   "metadata": {},
   "source": [
    "## 크롤링"
   ]
  },
  {
   "cell_type": "code",
   "execution_count": 93,
   "metadata": {},
   "outputs": [],
   "source": [
    "# 크롬창 띄우기\n",
    "driver = webdriver.Chrome(\"chromedriver.exe\")  # 윈도우 : \"chromedriver.exe\"\n",
    "driver.get(\"https://www.instagram.com/\")\n",
    "time.sleep(3)"
   ]
  },
  {
   "cell_type": "raw",
   "metadata": {},
   "source": [
    "수동 로그인\n",
    "알림 설정 나중에"
   ]
  },
  {
   "cell_type": "code",
   "execution_count": 95,
   "metadata": {},
   "outputs": [],
   "source": [
    "# 검색창에 커서 클릭\n",
    "element = driver.find_element_by_css_selector(\".pbgfb.Di7vw\")\n",
    "element.click()\n",
    "time.sleep(1)\n",
    "\n",
    "# 검색 창에 검색어 입력\n",
    "element = driver.find_element_by_css_selector(\".XTCLo.x3qfX\")\n",
    "element.send_keys(keyword)\n",
    "time.sleep(3)"
   ]
  },
  {
   "cell_type": "code",
   "execution_count": 97,
   "metadata": {},
   "outputs": [],
   "source": [
    "# 검색어 리스트 중 첫번째 검색어 클릭\n",
    "query_list = driver.find_elements_by_css_selector(\".-qQT3\")\n",
    "query_list[0].click()\n",
    "time.sleep(3)"
   ]
  },
  {
   "cell_type": "code",
   "execution_count": 98,
   "metadata": {},
   "outputs": [],
   "source": [
    "# 사진 클릭\n",
    "CSS_tran=\"div.Nnq7C.weEfm\"                         # 사진 버튼 정의 (\"div.Nnq7C.weEfm\")\n",
    "tran_button = driver.find_element_by_css_selector(CSS_tran)     # 사진 버튼 찾기\n",
    "AC(driver).move_to_element(tran_button).click().perform()       # 사진 버튼 클릭\n",
    "time.sleep(1)"
   ]
  },
  {
   "cell_type": "code",
   "execution_count": 84,
   "metadata": {},
   "outputs": [
    {
     "data": {
      "text/plain": [
       "'https://scontent-ssn1-1.cdninstagram.com/v/t51.2885-15/e35/s1080x1080/179388194_472322870661111_2917797678275566199_n.jpg?tp=1&_nc_ht=scontent-ssn1-1.cdninstagram.com&_nc_cat=103&_nc_ohc=MRv8TAKkH9AAX8aFgMv&edm=AP_V10EBAAAA&ccb=7-4&oh=b4a7cf1780a53c681c6ad589da1f349f&oe=60B06C2D&_nc_sid=4f375e'"
      ]
     },
     "execution_count": 84,
     "metadata": {},
     "output_type": "execute_result"
    }
   ],
   "source": [
    "# 사진(pic) 크롤링 시작\n",
    "overlays1 = \"div._2dDPU.CkGkG .FFVAD\"                   # 사진창 속 사진   \n",
    "img = driver.find_element_by_css_selector(overlays1)    # 사진 선택\n",
    "pic = img.get_attribute('src')                          # 사진 url 크롤링 완료\n",
    "pic"
   ]
  },
  {
   "cell_type": "code",
   "execution_count": 85,
   "metadata": {},
   "outputs": [
    {
     "data": {
      "text/plain": [
       "'2021년 4월 29일'"
      ]
     },
     "execution_count": 85,
     "metadata": {},
     "output_type": "execute_result"
    }
   ],
   "source": [
    "# 날짜(date) 크롤링 시작\n",
    "overlays2 = \"div._2dDPU.CkGkG .c-Yi7 > time\"                  # 날짜 지정\n",
    "datum2 = driver.find_element_by_css_selector(overlays2)     # 날짜 선택\n",
    "datum2.get_attribute('title')"
   ]
  },
  {
   "cell_type": "code",
   "execution_count": 58,
   "metadata": {},
   "outputs": [
    {
     "data": {
      "text/plain": [
       "'좋아요 137개'"
      ]
     },
     "execution_count": 58,
     "metadata": {},
     "output_type": "execute_result"
    }
   ],
   "source": [
    "# 좋아요(like) 크롤링 시작\n",
    "overlays3 = \".Nm9Fw\"                                        # 리뷰창 속 날짜\n",
    "datum3 = driver.find_element_by_css_selector(overlays3)     # 리뷰 선택\n",
    "like = datum3.text                                          # 좋아요 크롤링 완료\n",
    "like"
   ]
  },
  {
   "cell_type": "code",
   "execution_count": 61,
   "metadata": {},
   "outputs": [
    {
     "data": {
      "text/plain": [
       "''"
      ]
     },
     "execution_count": 61,
     "metadata": {},
     "output_type": "execute_result"
    }
   ],
   "source": [
    "# 해시태그(tag) 크롤링 시작\n",
    "overlays4 = \".C7I1f.X7jCj\"                                  # 태그 지정\n",
    "datum3 = driver.find_element_by_css_selector(overlays4)     # 태그 선택\n",
    "tag_raw = datum3.text\n",
    "tags = re.findall('#[A-Za-z0-9가-힣]+', tag_raw)            # \"\"#OOO\"만 뽑아오기(OOO: 한글,숫자,영어,_)\n",
    "tag = ''.join(tags).replace(\"#\",\" \")                        # \"#\" 제거\n",
    "tag\n",
    "# print(target_info)"
   ]
  },
  {
   "cell_type": "code",
   "execution_count": 60,
   "metadata": {},
   "outputs": [],
   "source": [
    "# 다음장 클릭\n",
    "CSS_tran2=\"a._65Bje.coreSpriteRightPaginationArrow\"             # 다음 버튼 정의\n",
    "tran_button2 = driver.find_element_by_css_selector(CSS_tran2)  # 다음 버튼 find\n",
    "AC(driver).move_to_element(tran_button2).click().perform()     # 다음 버튼 클릭"
   ]
  },
  {
   "cell_type": "code",
   "execution_count": null,
   "metadata": {},
   "outputs": [],
   "source": []
  },
  {
   "cell_type": "code",
   "execution_count": null,
   "metadata": {},
   "outputs": [],
   "source": []
  },
  {
   "cell_type": "markdown",
   "metadata": {},
   "source": [
    "## 크롤링 시작!"
   ]
  },
  {
   "cell_type": "code",
   "execution_count": 100,
   "metadata": {},
   "outputs": [],
   "source": [
    "# 크롬창 띄우기\n",
    "driver = webdriver.Chrome(\"chromedriver.exe\")  # 윈도우 : \"chromedriver.exe\"\n",
    "driver.get(\"https://www.instagram.com/\")\n",
    "time.sleep(3)"
   ]
  },
  {
   "cell_type": "raw",
   "metadata": {},
   "source": [
    "수동 로그인\n",
    "설정 나중에 하기"
   ]
  },
  {
   "cell_type": "code",
   "execution_count": 106,
   "metadata": {},
   "outputs": [
    {
     "data": {
      "text/plain": [
       "'/Users/aiden/Desktop'"
      ]
     },
     "execution_count": 106,
     "metadata": {},
     "output_type": "execute_result"
    }
   ],
   "source": [
    "pwd"
   ]
  },
  {
   "cell_type": "code",
   "execution_count": 101,
   "metadata": {
    "scrolled": false
   },
   "outputs": [
    {
     "name": "stderr",
     "output_type": "stream",
     "text": [
      "/Users/aiden/opt/anaconda3/lib/python3.7/site-packages/ipykernel_launcher.py:27: TqdmDeprecationWarning: This function will be removed in tqdm==5.0.0\n",
      "Please use `tqdm.notebook.tqdm` instead of `tqdm.tqdm_notebook`\n"
     ]
    },
    {
     "data": {
      "application/vnd.jupyter.widget-view+json": {
       "model_id": "47d8c522bce64ae292de94c79e359ab4",
       "version_major": 2,
       "version_minor": 0
      },
      "text/plain": [
       "  0%|          | 0/10 [00:00<?, ?it/s]"
      ]
     },
     "metadata": {},
     "output_type": "display_data"
    },
    {
     "name": "stdout",
     "output_type": "stream",
     "text": [
      "1  식음연구소 뉴프로젝트 lucakitchen grandopen lobsterroll 문어전복명란솥밥 떡볶이 치킨버거 김치볶음밥 seafoodplatter nomadicsicialdining luca831 casia 루카키친 식음연구소 rnd 운영팀\n",
      "2  김치볶음밥 목살김치볶음밥 점심 둘이서 한그릇뚝딱 반숙계란후라이 집밥 집밥스타그램 홈쿡 홈쿡스타그램 cookstagram koreanfood homecook 살림하는여자 주부일상그램 밥상차리는여자\n",
      "3  김치볶음밥 비비고두툼동그랑땡 동그랑땡 꼬들꼬들밥알\n",
      "5  homecooking kimuchi friedrice poachedeggs dayoff dinner crewlife hawaiilife 김치 김치볶음밥\n",
      "6  조아요테이블 구호물품 스팸볶음밥 파프리카전 미역국 오덴세 레고트\n",
      "7 \n",
      "8  미쿡식당 살치살스테이크 김치라이스 살치살 김치볶음밥 고속터미널미쿡식당 고속터미널맛집 고속터미널역맛집 고터맛집 강남스테이크 강남맛집 강남점심 강남데이트 서울맛집 잠실맛집 신세계백화점강남맛집\n",
      "{1: {'picture': 'https://scontent-ssn1-1.cdninstagram.com/v/t51.2885-15/e35/p1080x1080/178134350_2014315772044562_2659577245649133240_n.jpg?tp=1&_nc_ht=scontent-ssn1-1.cdninstagram.com&_nc_cat=102&_nc_ohc=uHCkW7Bvy0AAX-B7JaN&edm=AP_V10EBAAAA&ccb=7-4&oh=3b01a8c68c378ed2f4a4ec17708e3e2d&oe=60B11327&_nc_sid=4f375e', 'date': '2021년 4월 27일', 'like': '좋아요 1,633개', 'tag': ' 식음연구소 뉴프로젝트 lucakitchen grandopen lobsterroll 문어전복명란솥밥 떡볶이 치킨버거 김치볶음밥 seafoodplatter nomadicsicialdining luca831 casia 루카키친 식음연구소 rnd 운영팀'}, 2: {'picture': 'https://scontent-ssn1-1.cdninstagram.com/v/t51.2885-15/e35/p1080x1080/178158416_112887030914685_638509966810572892_n.jpg?tp=1&_nc_ht=scontent-ssn1-1.cdninstagram.com&_nc_cat=109&_nc_ohc=dJytClB9TT4AX8FbbzN&edm=AP_V10EBAAAA&ccb=7-4&oh=c9a4bb7cc2b9b76322bb3907b9b05f50&oe=60B17937&_nc_sid=4f375e', 'date': '2021년 4월 29일', 'like': '좋아요 855개', 'tag': ' 김치볶음밥 목살김치볶음밥 점심 둘이서 한그릇뚝딱 반숙계란후라이 집밥 집밥스타그램 홈쿡 홈쿡스타그램 cookstagram koreanfood homecook 살림하는여자 주부일상그램 밥상차리는여자'}, 3: {'picture': 'https://scontent-ssn1-1.cdninstagram.com/v/t51.2885-15/e35/s1080x1080/179483447_952146755597698_8610336265045551157_n.jpg?tp=1&_nc_ht=scontent-ssn1-1.cdninstagram.com&_nc_cat=110&_nc_ohc=_XnlPAu2YWcAX8rMPaN&edm=AP_V10EBAAAA&ccb=7-4&oh=383b9ec7e227faf8f3eda028031d7d96&oe=60B07EAA&_nc_sid=4f375e', 'date': '2021년 4월 29일', 'like': '좋아요 143개', 'tag': ' 김치볶음밥 비비고두툼동그랑땡 동그랑땡 꼬들꼬들밥알'}, 5: {'picture': 'https://scontent-ssn1-1.cdninstagram.com/v/t51.2885-15/e35/s1080x1080/168022412_1443679009317523_2187560364183655869_n.jpg?tp=1&_nc_ht=scontent-ssn1-1.cdninstagram.com&_nc_cat=107&_nc_ohc=Z82y8nJ5WVgAX_Fb3Xb&edm=AP_V10EBAAAA&ccb=7-4&oh=9c6a44d30347493d1ae82a95ea382599&oe=60AF6E1A&_nc_sid=4f375e', 'date': '2021년 4월 3일', 'like': '좋아요 107개', 'tag': ' homecooking kimuchi friedrice poachedeggs dayoff dinner crewlife hawaiilife 김치 김치볶음밥'}, 6: {'picture': 'https://scontent-ssn1-1.cdninstagram.com/v/t51.2885-15/e35/178441661_825981325020279_2864761961276801550_n.jpg?tp=1&_nc_ht=scontent-ssn1-1.cdninstagram.com&_nc_cat=103&_nc_ohc=quWtwmj3r6IAX8bBD7I&edm=AP_V10EBAAAA&ccb=7-4&oh=95ee874ece112f8ad5ab55e60204cb5b&oe=60B04F5F&_nc_sid=4f375e', 'date': '2021년 4월 28일', 'like': '좋아요 1,341개', 'tag': ' 조아요테이블 구호물품 스팸볶음밥 파프리카전 미역국 오덴세 레고트'}, 7: {'picture': 'https://scontent-ssn1-1.cdninstagram.com/v/t51.2885-15/e35/p1080x1080/165785772_496722005071620_3238945156916642010_n.jpg?tp=1&_nc_ht=scontent-ssn1-1.cdninstagram.com&_nc_cat=100&_nc_ohc=xGajUDDHnMkAX-oCJHU&edm=AP_V10EBAAAA&ccb=7-4&oh=f5f8665a1889baf272cfc999346e5277&oe=60B129B5&_nc_sid=4f375e', 'date': '2021년 3월 29일', 'like': '좋아요 128개', 'tag': ''}, 8: {'picture': 'https://scontent-ssn1-1.cdninstagram.com/v/t51.2885-15/e35/s1080x1080/178607963_326065128946476_6064302969468804903_n.jpg?tp=1&_nc_ht=scontent-ssn1-1.cdninstagram.com&_nc_cat=100&_nc_ohc=sX59Jzvq7vEAX-aN-GJ&edm=AP_V10EBAAAA&ccb=7-4&oh=5811f3f17302f5c6d0a0b682bff1a553&oe=60AF5784&_nc_sid=4f375e', 'date': '2021년 4월 27일', 'like': '좋아요 1,009개', 'tag': ' 미쿡식당 살치살스테이크 김치라이스 살치살 김치볶음밥 고속터미널미쿡식당 고속터미널맛집 고속터미널역맛집 고터맛집 강남스테이크 강남맛집 강남점심 강남데이트 서울맛집 잠실맛집 신세계백화점강남맛집'}}\n"
     ]
    }
   ],
   "source": [
    "dict = {}                                                       # 전체 데이터를 담을 딕셔너리 생성\n",
    "\n",
    "# 검색창에 커서 클릭\n",
    "element = driver.find_element_by_css_selector(\".pbgfb.Di7vw\")\n",
    "element.click()\n",
    "time.sleep(1)\n",
    "\n",
    "# 검색 창에 검색어 입력\n",
    "element = driver.find_element_by_css_selector(\".XTCLo.x3qfX\")\n",
    "element.send_keys(keyword)\n",
    "time.sleep(3)\n",
    "\n",
    "# 검색어 리스트 중 첫번째 검색어 클릭\n",
    "query_list = driver.find_elements_by_css_selector(\".-qQT3\")\n",
    "query_list[0].click()\n",
    "time.sleep(7)\n",
    "\n",
    "# 사진 클릭\n",
    "CSS_tran=\"div.Nnq7C.weEfm\"                                      # 사진 버튼 정의 \n",
    "tran_button = driver.find_element_by_css_selector(CSS_tran)     # 사진 버튼 찾기\n",
    "AC(driver).move_to_element(tran_button).click().perform()       # 사진 버튼 클릭\n",
    "time.sleep(1)\n",
    "\n",
    "# 크롤링 시작\n",
    "len_insta = 10   # 몇 개 글을 크롤링 할건지\n",
    "\n",
    "for i in tqdm_notebook(range(0, len_insta)):    # range : 숫자가 1씩하는 함수\n",
    "\n",
    "    target_info = {}                                            # 사진별 데이터를 담을 딕셔너리 생성\n",
    "\n",
    "    try:    # 크롤링을 시도해라.\n",
    "        # 사진(pic) 크롤링 시작\n",
    "        overlays1 = \"div._2dDPU.CkGkG .FFVAD\"                   # 사진창 속 사진   \n",
    "        img = driver.find_element_by_css_selector(overlays1)    # 사진 선택\n",
    "        pic = img.get_attribute('src')                          # 사진 url 크롤링 완료\n",
    "        target_info['picture'] = pic\n",
    "        # print(target_info)\n",
    "\n",
    "        # 날짜(date) 크롤링 시작\n",
    "        overlays2 = \"div._2dDPU.CkGkG .c-Yi7 > time\"                  # 날짜 지정\n",
    "        datum2 = driver.find_element_by_css_selector(overlays2)     # 날짜 선택\n",
    "        date = datum2.get_attribute('title')\n",
    "#         get_attribute('title')                                    # 날짜 크롤링 완료\n",
    "        target_info['date'] = date\n",
    "        # print(target_info)\n",
    "        # print(datalist)\n",
    "\n",
    "        # 좋아요(like) 크롤링 시작\n",
    "        overlays3 = \".Nm9Fw\"                                        # 리뷰창 속 날짜\n",
    "        datum3 = driver.find_element_by_css_selector(overlays3)     # 리뷰 선택\n",
    "        like = datum3.text                                          # 좋아요 크롤링 완료\n",
    "        target_info['like'] = like\n",
    "        # print(target_info)\n",
    "\n",
    "        # 해시태그(tag) 크롤링 시작\n",
    "        overlays4 = \".C7I1f.X7jCj\"                                  # 태그 지정\n",
    "        datum3 = driver.find_element_by_css_selector(overlays4)     # 태그 선택\n",
    "        tag_raw = datum3.text\n",
    "        tags = re.findall('#[A-Za-z0-9가-힣]+', tag_raw)            # \"\"#OOO\"만 뽑아오기(OOO: 한글,숫자,영어,_)\n",
    "        tag = ''.join(tags).replace(\"#\",\" \")                        # \"#\" 제거\n",
    "        target_info['tag'] = tag\n",
    "        # print(target_info)\n",
    "\n",
    "        dict[i] = target_info            # 토탈 딕셔너리로 만들기\n",
    "\n",
    "        print(\"{0}\".format(i), tag)\n",
    "\n",
    "        # 다음장 클릭\n",
    "        CSS_tran2=\"a._65Bje.coreSpriteRightPaginationArrow\"             # 다음 버튼 정의\n",
    "        tran_button2 = driver.find_element_by_css_selector(CSS_tran2)  # 다음 버튼 find\n",
    "        AC(driver).move_to_element(tran_button2).click().perform()     # 다음 버튼 클릭\n",
    "        time.sleep(2)\n",
    "\n",
    "    except:  # 에러가 나면 다음장을 클릭해라\n",
    "        # 다음장 클릭\n",
    "        CSS_tran2=\"a._65Bje.coreSpriteRightPaginationArrow\"             # 다음 버튼 정의\n",
    "        tran_button2 = driver.find_element_by_css_selector(CSS_tran2)  # 다음 버튼 find\n",
    "        AC(driver).move_to_element(tran_button2).click().perform()     # 다음 버튼 클릭\n",
    "        time.sleep(2)\n",
    "\n",
    "print(dict)\n",
    "\n",
    "# 판다스로 만들기 : 엑셀(테이블) 형식으로 만들기\n",
    "import pandas as pd\n",
    "result_df = pd.DataFrame.from_dict(dict, 'index')\n",
    "\n",
    "n = result_df['picture'].count()\n",
    "\n",
    "# csv 형식(엑셀이랑 비슷한 파일)으로 저장\n",
    "result_df.to_csv(\"data/insta({}).csv\".format(keyword), encoding='euc-kr')"
   ]
  },
  {
   "cell_type": "code",
   "execution_count": 102,
   "metadata": {},
   "outputs": [
    {
     "data": {
      "text/html": [
       "<div>\n",
       "<style scoped>\n",
       "    .dataframe tbody tr th:only-of-type {\n",
       "        vertical-align: middle;\n",
       "    }\n",
       "\n",
       "    .dataframe tbody tr th {\n",
       "        vertical-align: top;\n",
       "    }\n",
       "\n",
       "    .dataframe thead th {\n",
       "        text-align: right;\n",
       "    }\n",
       "</style>\n",
       "<table border=\"1\" class=\"dataframe\">\n",
       "  <thead>\n",
       "    <tr style=\"text-align: right;\">\n",
       "      <th></th>\n",
       "      <th>picture</th>\n",
       "      <th>date</th>\n",
       "      <th>like</th>\n",
       "      <th>tag</th>\n",
       "    </tr>\n",
       "  </thead>\n",
       "  <tbody>\n",
       "    <tr>\n",
       "      <th>1</th>\n",
       "      <td>https://scontent-ssn1-1.cdninstagram.com/v/t51...</td>\n",
       "      <td>2021년 4월 27일</td>\n",
       "      <td>좋아요 1,633개</td>\n",
       "      <td>식음연구소 뉴프로젝트 lucakitchen grandopen lobsterroll...</td>\n",
       "    </tr>\n",
       "    <tr>\n",
       "      <th>2</th>\n",
       "      <td>https://scontent-ssn1-1.cdninstagram.com/v/t51...</td>\n",
       "      <td>2021년 4월 29일</td>\n",
       "      <td>좋아요 855개</td>\n",
       "      <td>김치볶음밥 목살김치볶음밥 점심 둘이서 한그릇뚝딱 반숙계란후라이 집밥 집밥스타그램 ...</td>\n",
       "    </tr>\n",
       "    <tr>\n",
       "      <th>3</th>\n",
       "      <td>https://scontent-ssn1-1.cdninstagram.com/v/t51...</td>\n",
       "      <td>2021년 4월 29일</td>\n",
       "      <td>좋아요 143개</td>\n",
       "      <td>김치볶음밥 비비고두툼동그랑땡 동그랑땡 꼬들꼬들밥알</td>\n",
       "    </tr>\n",
       "    <tr>\n",
       "      <th>5</th>\n",
       "      <td>https://scontent-ssn1-1.cdninstagram.com/v/t51...</td>\n",
       "      <td>2021년 4월 3일</td>\n",
       "      <td>좋아요 107개</td>\n",
       "      <td>homecooking kimuchi friedrice poachedeggs day...</td>\n",
       "    </tr>\n",
       "    <tr>\n",
       "      <th>6</th>\n",
       "      <td>https://scontent-ssn1-1.cdninstagram.com/v/t51...</td>\n",
       "      <td>2021년 4월 28일</td>\n",
       "      <td>좋아요 1,341개</td>\n",
       "      <td>조아요테이블 구호물품 스팸볶음밥 파프리카전 미역국 오덴세 레고트</td>\n",
       "    </tr>\n",
       "    <tr>\n",
       "      <th>7</th>\n",
       "      <td>https://scontent-ssn1-1.cdninstagram.com/v/t51...</td>\n",
       "      <td>2021년 3월 29일</td>\n",
       "      <td>좋아요 128개</td>\n",
       "      <td></td>\n",
       "    </tr>\n",
       "    <tr>\n",
       "      <th>8</th>\n",
       "      <td>https://scontent-ssn1-1.cdninstagram.com/v/t51...</td>\n",
       "      <td>2021년 4월 27일</td>\n",
       "      <td>좋아요 1,009개</td>\n",
       "      <td>미쿡식당 살치살스테이크 김치라이스 살치살 김치볶음밥 고속터미널미쿡식당 고속터미널맛...</td>\n",
       "    </tr>\n",
       "  </tbody>\n",
       "</table>\n",
       "</div>"
      ],
      "text/plain": [
       "                                             picture          date  \\\n",
       "1  https://scontent-ssn1-1.cdninstagram.com/v/t51...  2021년 4월 27일   \n",
       "2  https://scontent-ssn1-1.cdninstagram.com/v/t51...  2021년 4월 29일   \n",
       "3  https://scontent-ssn1-1.cdninstagram.com/v/t51...  2021년 4월 29일   \n",
       "5  https://scontent-ssn1-1.cdninstagram.com/v/t51...   2021년 4월 3일   \n",
       "6  https://scontent-ssn1-1.cdninstagram.com/v/t51...  2021년 4월 28일   \n",
       "7  https://scontent-ssn1-1.cdninstagram.com/v/t51...  2021년 3월 29일   \n",
       "8  https://scontent-ssn1-1.cdninstagram.com/v/t51...  2021년 4월 27일   \n",
       "\n",
       "         like                                                tag  \n",
       "1  좋아요 1,633개   식음연구소 뉴프로젝트 lucakitchen grandopen lobsterroll...  \n",
       "2    좋아요 855개   김치볶음밥 목살김치볶음밥 점심 둘이서 한그릇뚝딱 반숙계란후라이 집밥 집밥스타그램 ...  \n",
       "3    좋아요 143개                        김치볶음밥 비비고두툼동그랑땡 동그랑땡 꼬들꼬들밥알  \n",
       "5    좋아요 107개   homecooking kimuchi friedrice poachedeggs day...  \n",
       "6  좋아요 1,341개                조아요테이블 구호물품 스팸볶음밥 파프리카전 미역국 오덴세 레고트  \n",
       "7    좋아요 128개                                                     \n",
       "8  좋아요 1,009개   미쿡식당 살치살스테이크 김치라이스 살치살 김치볶음밥 고속터미널미쿡식당 고속터미널맛...  "
      ]
     },
     "execution_count": 102,
     "metadata": {},
     "output_type": "execute_result"
    }
   ],
   "source": [
    "result_df"
   ]
  },
  {
   "cell_type": "code",
   "execution_count": 103,
   "metadata": {},
   "outputs": [
    {
     "data": {
      "text/plain": [
       "7"
      ]
     },
     "execution_count": 103,
     "metadata": {},
     "output_type": "execute_result"
    }
   ],
   "source": [
    "num_pic = len(result_df['picture'])\n",
    "num_pic"
   ]
  },
  {
   "cell_type": "code",
   "execution_count": 104,
   "metadata": {},
   "outputs": [
    {
     "data": {
      "text/plain": [
       "'/Users/aiden/Desktop'"
      ]
     },
     "execution_count": 104,
     "metadata": {},
     "output_type": "execute_result"
    }
   ],
   "source": [
    "pwd"
   ]
  },
  {
   "cell_type": "code",
   "execution_count": 105,
   "metadata": {},
   "outputs": [],
   "source": [
    "# 이미지들 image_insta 폴더에 다운받기\n",
    "import os\n",
    "import urllib.request\n",
    "\n",
    "# 만약 image_insta 폴더가 없으면 만들어라\n",
    "if not os.path.exists(\"image_insta\"):\n",
    "    os.makedirs(\"image_insta\")\n",
    "        \n",
    "for i in range(0, 50):\n",
    "    \n",
    "    try:\n",
    "        index = result_df['picture'][i]\n",
    "        date = result_df['date'][i]\n",
    "        urllib.request.urlretrieve(index, \"image_insta/{0}_{1}.jpg\".format(date, i))        \n",
    "    except:\n",
    "        pass"
   ]
  },
  {
   "cell_type": "markdown",
   "metadata": {},
   "source": [
    "끝"
   ]
  },
  {
   "cell_type": "code",
   "execution_count": null,
   "metadata": {},
   "outputs": [],
   "source": []
  }
 ],
 "metadata": {
  "kernelspec": {
   "display_name": "Python 3",
   "language": "python",
   "name": "python3"
  },
  "language_info": {
   "codemirror_mode": {
    "name": "ipython",
    "version": 3
   },
   "file_extension": ".py",
   "mimetype": "text/x-python",
   "name": "python",
   "nbconvert_exporter": "python",
   "pygments_lexer": "ipython3",
   "version": "3.7.6"
  },
  "varInspector": {
   "cols": {
    "lenName": 16,
    "lenType": 16,
    "lenVar": 40
   },
   "kernels_config": {
    "python": {
     "delete_cmd_postfix": "",
     "delete_cmd_prefix": "del ",
     "library": "var_list.py",
     "varRefreshCmd": "print(var_dic_list())"
    },
    "r": {
     "delete_cmd_postfix": ") ",
     "delete_cmd_prefix": "rm(",
     "library": "var_list.r",
     "varRefreshCmd": "cat(var_dic_list()) "
    }
   },
   "types_to_exclude": [
    "module",
    "function",
    "builtin_function_or_method",
    "instance",
    "_Feature"
   ],
   "window_display": false
  }
 },
 "nbformat": 4,
 "nbformat_minor": 2
}
