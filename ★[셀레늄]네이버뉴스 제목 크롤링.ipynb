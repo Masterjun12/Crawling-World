{
 "cells": [
  {
   "cell_type": "code",
   "execution_count": null,
   "metadata": {},
   "outputs": [],
   "source": [
    "# 네이버 뉴스 제목 크롤링\n",
    "from selenium import webdriver\n",
    "chrome = webdriver.Chrome('chromedriver.exe')      # 크롬 드라이버 로드\n",
    "chrome.get(\"http://news.naver.com/main/home.nhn\")  # 웹페이지로 이동"
   ]
  },
  {
   "cell_type": "code",
   "execution_count": 5,
   "metadata": {},
   "outputs": [],
   "source": [
    "things = chrome.find_elements_by_css_selector(\".mlist2.no_bg\") # '이 시각 주요뉴스'의 엘리먼트를 수집 (복수)"
   ]
  },
  {
   "cell_type": "code",
   "execution_count": 6,
   "metadata": {},
   "outputs": [
    {
     "name": "stdout",
     "output_type": "stream",
     "text": [
      "'속전속결' 외교부 \"K참사관·강효상 형사고발\" 끝마쳐 포토 뉴시스\n",
      "리비아 피랍 가족, 외교관 이름 한명한명 부르며 文에 편지(전문) 포토 머니투데이\n",
      "[이슈 따라잡기] 靑 신임 인사수석 김외숙·‘통화 유출’ 외교관과 강효상 형사고발 SBS CNBC\n",
      "\"이런 푸대접 처음이다\" 韓日관계 '의회외교 채널' 단절 기로 포토 파이낸셜뉴스\n",
      "[영상]문 대통령보다 먼저 앉은 유영민 장관은 불경?…하지만 오해다 중앙일보\n",
      "미국은 왜 중국을 환율조작국으로 지정하지 않았나? 포토 뉴스1\n",
      "NH증권, 글로벌 논스톱 매매로 성장도 ‘논스톱’[이제는 해외주식 직구 시대 ③] 한국경제TV\n",
      "혁신의 아이콘 '키움'은 어디로...돌파구는 '리노베이션' 한국경제TV\n",
      "경총 \"현대重 노조, 말뫼의 눈물 자초\"…불법 폭력행위 비난 포토 데일리안\n",
      "오이피 투 파트너스 코-인베스트, 엘.피., 셀트리온헬스케어 주식 18만주 장내매도 아시아경제\n",
      "현대차 노조 \"한마음회관 공권력 투입 시 엄청난 사상자 나올 수도\" 포토 파이낸셜뉴스\n",
      "\"감금 위험 교섭장 바꿔달라\"…한국GM 임협 시작부터 삐걱 포토 연합뉴스\n",
      "137억 피해낸 구미공단 화재 원인 국과수 감식에도 오리무중 포토 한국일보\n",
      "홍철호 \"2기 신도시 교통사업비 10조6262억 미집행\" 포토 뉴스1\n",
      "‘혼인감소=출생아감소’…30대 초반 남성 혼인율 ‘급감’ 포토 세계일보\n",
      "최장수 민물고기는 잉어? 112살 버펄로 피시! 포토 한겨레\n",
      "[리뷰] 300km 주행 가능한 현대차 2층 전기버스 포토 ZDNet Korea\n",
      "\"종교적 신념\" 병역거부 여호와의증인 신도 잇따라 무죄 포토 연합뉴스\n",
      "일본 아베 박사가 말하는 '100세 시대 암과 맞서는 법' 포토 아이뉴스24\n",
      "윤범모 관장 \"내 생일날 같다\"...'근대미술가의 재발견1' 개막 포토 뉴시스\n",
      "“中 어선, 남중국해 훈련 호주 해군 헬기 향해 레이저 발사해” 포토 중앙일보\n",
      "日 ‘도리마 악몽’ 6시간만에… 또 ‘칼부림’ 문화일보\n",
      "매켄지 베이조스 “재산 절반 기부\"···21兆 넘길듯 포토 서울경제\n",
      "‘트럼프 유화발언’ 오판 말라는 對北경고 문화일보\n",
      "英정치권 '브렉시트' 설왕설래…\"'노딜'도 감수해야\" 포토 뉴스1\n",
      "암치료 '표적 단백질', 세포 분열 제어 메커니즘 발견 포토 연합뉴스\n",
      "위기의 화웨이, 2위 사수 대작전…중국 정조준(종합) 포토 아시아경제\n",
      "카카오게임즈 재상장 운명, '에어'가 최대 변수 포토 전자신문\n",
      "\"중국, 윈도 대신할 자체 군용OS 개발한다\" 포토 ZDNet Korea\n",
      "카카오모빌리티, 정주환·류긍선 공동대표 체제로 전환 포토 서울경제\n"
     ]
    }
   ],
   "source": [
    "for thing in things :   # for문으로 thing(원하는 것)만 추출\n",
    "    print(thing.text)   # text화 후 출력"
   ]
  },
  {
   "cell_type": "code",
   "execution_count": null,
   "metadata": {},
   "outputs": [],
   "source": []
  }
 ],
 "metadata": {
  "kernelspec": {
   "display_name": "Python 3",
   "language": "python",
   "name": "python3"
  },
  "language_info": {
   "codemirror_mode": {
    "name": "ipython",
    "version": 3
   },
   "file_extension": ".py",
   "mimetype": "text/x-python",
   "name": "python",
   "nbconvert_exporter": "python",
   "pygments_lexer": "ipython3",
   "version": "3.6.7"
  }
 },
 "nbformat": 4,
 "nbformat_minor": 2
}
