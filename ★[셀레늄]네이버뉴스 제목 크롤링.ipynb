{
 "cells": [
  {
   "cell_type": "code",
   "execution_count": 1,
   "metadata": {},
   "outputs": [],
   "source": [
    "# 네이버 뉴스 제목 크롤링\n",
    "from selenium import webdriver\n",
    "chrome = webdriver.Chrome('chromedriver.exe')      # 크롬 드라이버 로드\n",
    "chrome.get(\"http://news.naver.com/main/home.nhn\")  # 웹페이지로 이동\n",
    "\n",
    "things = chrome.find_elements_by_css_selector(\".newsnow_tx_inner\") # '이 시각 주요뉴스'의 엘리먼트를 수집 (복수)"
   ]
  },
  {
   "cell_type": "code",
   "execution_count": 2,
   "metadata": {},
   "outputs": [
    {
     "name": "stdout",
     "output_type": "stream",
     "text": [
      "강경화, '강제징용 판결' 일본 측에 신중 대응 촉구\n",
      "일자리 10개월만에 최대 늘며 반짝회복…고용한파 잦아드나\n",
      "민주 '2월 국회 의결' 시한 박았지만 선거제 개혁 '산 넘어 산'\n",
      "19세 이하 'ADHD'-20~70대 '우울'-80세 이상 '치매'\n",
      "찬바람 불어 체감추위…곳곳 초미세먼지 '나쁨'\n",
      "文대통령, 홍남기 경제부총리와 첫 정례회동…주요 경제현안 청취\n",
      "아무도 책임지지 않는 승선근무예비역 죽음\n",
      "13일부터 여러 신용카드 결제대금·포인트 한 곳에서 확인\n",
      "돈 더 풀렸다…10월 시중통화량 증가 1년9개월來 최고\n",
      "방송시장 16.5조…지상파·케이블 '울고' IPTV만 '웃었다'\n"
     ]
    }
   ],
   "source": [
    "for thing in things :   # for문으로 thing(원하는 것)만 추출\n",
    "    print(thing.text)   # text화 후 출력"
   ]
  },
  {
   "cell_type": "code",
   "execution_count": null,
   "metadata": {},
   "outputs": [],
   "source": []
  }
 ],
 "metadata": {
  "kernelspec": {
   "display_name": "Python 3",
   "language": "python",
   "name": "python3"
  },
  "language_info": {
   "codemirror_mode": {
    "name": "ipython",
    "version": 3
   },
   "file_extension": ".py",
   "mimetype": "text/x-python",
   "name": "python",
   "nbconvert_exporter": "python",
   "pygments_lexer": "ipython3",
   "version": "3.6.7"
  }
 },
 "nbformat": 4,
 "nbformat_minor": 2
}
