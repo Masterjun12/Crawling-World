{
 "cells": [
  {
   "cell_type": "code",
   "execution_count": 1,
   "metadata": {},
   "outputs": [
    {
     "data": {
      "text/plain": [
       "<Response [200]>"
      ]
     },
     "execution_count": 1,
     "metadata": {},
     "output_type": "execute_result"
    }
   ],
   "source": [
    "import requests\n",
    "import json\n",
    "\n",
    "key = 'GK%2Bl5QlLpGSK9H3bruybzUiF%2BVA6xAMnyRYYaj8taJMMCFeqxwyCXCrby0aU9WnsaX8XmxzQrvU5mRBIrYLTMA%3D%3D'\n",
    "# decode_key = requests.utils.unquote(key)\n",
    "\n",
    "response = requests.get('http://apis.data.go.kr/1360000/TourStnInfoService/getTourStnVilageFcst\\\n",
    "?serviceKey={}\\\n",
    "&numOfRows=10&pageNo=1&dataType=JSON&CURRENT_DATE=2020060201&HOUR=24&COURSE_ID=1'.format(key))\n",
    "response"
   ]
  },
  {
   "cell_type": "code",
   "execution_count": 2,
   "metadata": {},
   "outputs": [
    {
     "data": {
      "text/plain": [
       "'{\"response\":{\"header\":{\"resultCode\":\"00\",\"resultMsg\":\"NORMAL_SERVICE\"},\"body\":{\"dataType\":\"JSON\",\"items\":{\"item\":[{\"courseAreaId\":\"4700000000\",\"courseAreaName\":\"경상북도\",\"courseId\":\"1\",\"courseName\":\"남호고택에서의 하룻밤\",\"pop\":0,\"rhm\":90,\"sky\":1,\"spotAreaId\":102,\"spotAreaName\":\"봉화\",\"spotName\":\"(봉화)춘양목 송이마을\",\"th3\":17,\"thema\":\"문화/예술\",\"tm\":\"2020-06-04 00:00\",\"wd\":264,\"ws\":1},{\"courseAreaId\":\"4700000000\",\"courseAreaName\":\"경상북도\",\"courseId\":\"1\",\"courseName\":\"남호고택에서의 하룻밤\",\"pop\":0,\"rhm\":85,\"sky\":1,\"spotAreaId\":104,\"spotAreaName\":\"봉화\",\"spotName\":\"(봉화)계서당(성이성 생가)\",\"th3\":19,\"thema\":\"종교/역사/전통\",\"tm\":\"2020-06-04 00:00\",\"wd\":270,\"ws\":0},{\"courseAreaId\":\"4700000000\",\"courseAreaName\":\"경상북도\",\"courseId\":\"1\",\"courseName\":\"남호고택에서의 하룻밤\",\"pop\":0,\"rhm\":85,\"sky\":1,\"spotAreaId\":104,\"spotAreaName\":\"봉화\",\"spotName\":\"(봉화)계서당(성이성 생가)\",\"th3\":19,\"thema\":\"자연/힐링\",\"tm\":\"2020-06-04 00:00\",\"wd\":270,\"ws\":0},{\"courseAreaId\":\"4700000000\",\"courseAreaName\":\"경상북도\",\"courseId\":\"1\",\"courseName\":\"남호고택에서의 하룻밤\",\"pop\":0,\"rhm\":85,\"sky\":1,\"spotAreaId\":104,\"spotAreaName\":\"봉화\",\"spotName\":\"(봉화)계서당(성이성 생가)\",\"th3\":19,\"thema\":\"체험/학습/산업\",\"tm\":\"2020-06-04 00:00\",\"wd\":270,\"ws\":0},{\"courseAreaId\":\"4700000000\",\"courseAreaName\":\"경상북도\",\"courseId\":\"1\",\"courseName\":\"남호고택에서의 하룻밤\",\"pop\":0,\"rhm\":85,\"sky\":1,\"spotAreaId\":103,\"spotAreaName\":\"봉화\",\"spotName\":\"(봉화)지림사\",\"th3\":18,\"thema\":\"문화/예술\",\"tm\":\"2020-06-04 00:00\",\"wd\":270,\"ws\":0},{\"courseAreaId\":\"4700000000\",\"courseAreaName\":\"경상북도\",\"courseId\":\"1\",\"courseName\":\"남호고택에서의 하룻밤\",\"pop\":0,\"rhm\":85,\"sky\":1,\"spotAreaId\":103,\"spotAreaName\":\"봉화\",\"spotName\":\"(봉화)지림사\",\"th3\":18,\"thema\":\"종교/역사/전통\",\"tm\":\"2020-06-04 00:00\",\"wd\":270,\"ws\":0},{\"courseAreaId\":\"4700000000\",\"courseAreaName\":\"경상북도\",\"courseId\":\"1\",\"courseName\":\"남호고택에서의 하룻밤\",\"pop\":0,\"rhm\":85,\"sky\":1,\"spotAreaId\":103,\"spotAreaName\":\"봉화\",\"spotName\":\"(봉화)지림사\",\"th3\":18,\"thema\":\"자연/힐링\",\"tm\":\"2020-06-04 00:00\",\"wd\":270,\"ws\":0},{\"courseAreaId\":\"4700000000\",\"courseAreaName\":\"경상북도\",\"courseId\":\"1\",\"courseName\":\"남호고택에서의 하룻밤\",\"pop\":0,\"rhm\":85,\"sky\":1,\"spotAreaId\":103,\"spotAreaName\":\"봉화\",\"spotName\":\"(봉화)지림사\",\"th3\":18,\"thema\":\"체험/학습/산업\",\"tm\":\"2020-06-04 00:00\",\"wd\":270,\"ws\":0},{\"courseAreaId\":\"4700000000\",\"courseAreaName\":\"경상북도\",\"courseId\":\"1\",\"courseName\":\"남호고택에서의 하룻밤\",\"pop\":0,\"rhm\":85,\"sky\":1,\"spotAreaId\":104,\"spotAreaName\":\"봉화\",\"spotName\":\"(봉화)계서당(성이성 생가)\",\"th3\":19,\"thema\":\"문화/예술\",\"tm\":\"2020-06-04 00:00\",\"wd\":270,\"ws\":0},{\"courseAreaId\":\"4700000000\",\"courseAreaName\":\"경상북도\",\"courseId\":\"1\",\"courseName\":\"남호고택에서의 하룻밤\",\"pop\":0,\"rhm\":90,\"sky\":1,\"spotAreaId\":102,\"spotAreaName\":\"봉화\",\"spotName\":\"(봉화)춘양목 송이마을\",\"th3\":17,\"thema\":\"종교/역사/전통\",\"tm\":\"2020-06-04 00:00\",\"wd\":264,\"ws\":1}]},\"pageNo\":1,\"numOfRows\":10,\"totalCount\":256}}}'"
      ]
     },
     "execution_count": 2,
     "metadata": {},
     "output_type": "execute_result"
    }
   ],
   "source": [
    "response.text"
   ]
  },
  {
   "cell_type": "code",
   "execution_count": 3,
   "metadata": {},
   "outputs": [],
   "source": [
    "data=json.loads(response.text)"
   ]
  },
  {
   "cell_type": "code",
   "execution_count": 4,
   "metadata": {
    "scrolled": false
   },
   "outputs": [
    {
     "name": "stdout",
     "output_type": "stream",
     "text": [
      "10\n"
     ]
    },
    {
     "data": {
      "text/plain": [
       "[{'courseAreaId': '4700000000',\n",
       "  'courseAreaName': '경상북도',\n",
       "  'courseId': '1',\n",
       "  'courseName': '남호고택에서의 하룻밤',\n",
       "  'pop': 0,\n",
       "  'rhm': 90,\n",
       "  'sky': 1,\n",
       "  'spotAreaId': 102,\n",
       "  'spotAreaName': '봉화',\n",
       "  'spotName': '(봉화)춘양목 송이마을',\n",
       "  'th3': 17,\n",
       "  'thema': '문화/예술',\n",
       "  'tm': '2020-06-04 00:00',\n",
       "  'wd': 264,\n",
       "  'ws': 1},\n",
       " {'courseAreaId': '4700000000',\n",
       "  'courseAreaName': '경상북도',\n",
       "  'courseId': '1',\n",
       "  'courseName': '남호고택에서의 하룻밤',\n",
       "  'pop': 0,\n",
       "  'rhm': 85,\n",
       "  'sky': 1,\n",
       "  'spotAreaId': 104,\n",
       "  'spotAreaName': '봉화',\n",
       "  'spotName': '(봉화)계서당(성이성 생가)',\n",
       "  'th3': 19,\n",
       "  'thema': '종교/역사/전통',\n",
       "  'tm': '2020-06-04 00:00',\n",
       "  'wd': 270,\n",
       "  'ws': 0},\n",
       " {'courseAreaId': '4700000000',\n",
       "  'courseAreaName': '경상북도',\n",
       "  'courseId': '1',\n",
       "  'courseName': '남호고택에서의 하룻밤',\n",
       "  'pop': 0,\n",
       "  'rhm': 85,\n",
       "  'sky': 1,\n",
       "  'spotAreaId': 104,\n",
       "  'spotAreaName': '봉화',\n",
       "  'spotName': '(봉화)계서당(성이성 생가)',\n",
       "  'th3': 19,\n",
       "  'thema': '자연/힐링',\n",
       "  'tm': '2020-06-04 00:00',\n",
       "  'wd': 270,\n",
       "  'ws': 0},\n",
       " {'courseAreaId': '4700000000',\n",
       "  'courseAreaName': '경상북도',\n",
       "  'courseId': '1',\n",
       "  'courseName': '남호고택에서의 하룻밤',\n",
       "  'pop': 0,\n",
       "  'rhm': 85,\n",
       "  'sky': 1,\n",
       "  'spotAreaId': 104,\n",
       "  'spotAreaName': '봉화',\n",
       "  'spotName': '(봉화)계서당(성이성 생가)',\n",
       "  'th3': 19,\n",
       "  'thema': '체험/학습/산업',\n",
       "  'tm': '2020-06-04 00:00',\n",
       "  'wd': 270,\n",
       "  'ws': 0},\n",
       " {'courseAreaId': '4700000000',\n",
       "  'courseAreaName': '경상북도',\n",
       "  'courseId': '1',\n",
       "  'courseName': '남호고택에서의 하룻밤',\n",
       "  'pop': 0,\n",
       "  'rhm': 85,\n",
       "  'sky': 1,\n",
       "  'spotAreaId': 103,\n",
       "  'spotAreaName': '봉화',\n",
       "  'spotName': '(봉화)지림사',\n",
       "  'th3': 18,\n",
       "  'thema': '문화/예술',\n",
       "  'tm': '2020-06-04 00:00',\n",
       "  'wd': 270,\n",
       "  'ws': 0},\n",
       " {'courseAreaId': '4700000000',\n",
       "  'courseAreaName': '경상북도',\n",
       "  'courseId': '1',\n",
       "  'courseName': '남호고택에서의 하룻밤',\n",
       "  'pop': 0,\n",
       "  'rhm': 85,\n",
       "  'sky': 1,\n",
       "  'spotAreaId': 103,\n",
       "  'spotAreaName': '봉화',\n",
       "  'spotName': '(봉화)지림사',\n",
       "  'th3': 18,\n",
       "  'thema': '종교/역사/전통',\n",
       "  'tm': '2020-06-04 00:00',\n",
       "  'wd': 270,\n",
       "  'ws': 0},\n",
       " {'courseAreaId': '4700000000',\n",
       "  'courseAreaName': '경상북도',\n",
       "  'courseId': '1',\n",
       "  'courseName': '남호고택에서의 하룻밤',\n",
       "  'pop': 0,\n",
       "  'rhm': 85,\n",
       "  'sky': 1,\n",
       "  'spotAreaId': 103,\n",
       "  'spotAreaName': '봉화',\n",
       "  'spotName': '(봉화)지림사',\n",
       "  'th3': 18,\n",
       "  'thema': '자연/힐링',\n",
       "  'tm': '2020-06-04 00:00',\n",
       "  'wd': 270,\n",
       "  'ws': 0},\n",
       " {'courseAreaId': '4700000000',\n",
       "  'courseAreaName': '경상북도',\n",
       "  'courseId': '1',\n",
       "  'courseName': '남호고택에서의 하룻밤',\n",
       "  'pop': 0,\n",
       "  'rhm': 85,\n",
       "  'sky': 1,\n",
       "  'spotAreaId': 103,\n",
       "  'spotAreaName': '봉화',\n",
       "  'spotName': '(봉화)지림사',\n",
       "  'th3': 18,\n",
       "  'thema': '체험/학습/산업',\n",
       "  'tm': '2020-06-04 00:00',\n",
       "  'wd': 270,\n",
       "  'ws': 0},\n",
       " {'courseAreaId': '4700000000',\n",
       "  'courseAreaName': '경상북도',\n",
       "  'courseId': '1',\n",
       "  'courseName': '남호고택에서의 하룻밤',\n",
       "  'pop': 0,\n",
       "  'rhm': 85,\n",
       "  'sky': 1,\n",
       "  'spotAreaId': 104,\n",
       "  'spotAreaName': '봉화',\n",
       "  'spotName': '(봉화)계서당(성이성 생가)',\n",
       "  'th3': 19,\n",
       "  'thema': '문화/예술',\n",
       "  'tm': '2020-06-04 00:00',\n",
       "  'wd': 270,\n",
       "  'ws': 0},\n",
       " {'courseAreaId': '4700000000',\n",
       "  'courseAreaName': '경상북도',\n",
       "  'courseId': '1',\n",
       "  'courseName': '남호고택에서의 하룻밤',\n",
       "  'pop': 0,\n",
       "  'rhm': 90,\n",
       "  'sky': 1,\n",
       "  'spotAreaId': 102,\n",
       "  'spotAreaName': '봉화',\n",
       "  'spotName': '(봉화)춘양목 송이마을',\n",
       "  'th3': 17,\n",
       "  'thema': '종교/역사/전통',\n",
       "  'tm': '2020-06-04 00:00',\n",
       "  'wd': 264,\n",
       "  'ws': 1}]"
      ]
     },
     "execution_count": 4,
     "metadata": {},
     "output_type": "execute_result"
    }
   ],
   "source": [
    "a = data['response']['body']['items']['item']\n",
    "print(len(a))\n",
    "a"
   ]
  },
  {
   "cell_type": "code",
   "execution_count": null,
   "metadata": {},
   "outputs": [],
   "source": []
  },
  {
   "cell_type": "code",
   "execution_count": null,
   "metadata": {},
   "outputs": [],
   "source": []
  },
  {
   "cell_type": "code",
   "execution_count": null,
   "metadata": {},
   "outputs": [],
   "source": []
  }
 ],
 "metadata": {
  "kernelspec": {
   "display_name": "Python 3",
   "language": "python",
   "name": "python3"
  },
  "language_info": {
   "codemirror_mode": {
    "name": "ipython",
    "version": 3
   },
   "file_extension": ".py",
   "mimetype": "text/x-python",
   "name": "python",
   "nbconvert_exporter": "python",
   "pygments_lexer": "ipython3",
   "version": "3.7.6"
  }
 },
 "nbformat": 4,
 "nbformat_minor": 4
}
