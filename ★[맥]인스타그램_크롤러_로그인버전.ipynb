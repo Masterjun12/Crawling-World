{
 "cells": [
  {
   "cell_type": "code",
   "execution_count": 1,
   "metadata": {},
   "outputs": [
    {
     "name": "stderr",
     "output_type": "stream",
     "text": [
      "Python 3.6.5 :: Anaconda, Inc.\n"
     ]
    }
   ],
   "source": [
    "!python --version"
   ]
  },
  {
   "cell_type": "code",
   "execution_count": 24,
   "metadata": {},
   "outputs": [
    {
     "data": {
      "text/plain": [
       "'/Users/aiden/Desktop'"
      ]
     },
     "execution_count": 24,
     "metadata": {},
     "output_type": "execute_result"
    }
   ],
   "source": [
    "pwd"
   ]
  },
  {
   "cell_type": "code",
   "execution_count": 12,
   "metadata": {},
   "outputs": [],
   "source": [
    "import pandas as pd\n",
    "import numpy as np"
   ]
  },
  {
   "cell_type": "code",
   "execution_count": 18,
   "metadata": {},
   "outputs": [],
   "source": [
    "# 라이브러리 import\n",
    "# 라이브러리 : 필요한 도구\n",
    "from selenium import webdriver  # 라이브러리(모듈) 가져오라\n",
    "from selenium.webdriver import ActionChains as AC\n",
    "from tqdm import tqdm\n",
    "from tqdm import tqdm_notebook\n",
    "import re\n",
    "from time import sleep\n",
    "import time"
   ]
  },
  {
   "cell_type": "code",
   "execution_count": 19,
   "metadata": {},
   "outputs": [
    {
     "data": {
      "text/plain": [
       "'방향제'"
      ]
     },
     "execution_count": 19,
     "metadata": {},
     "output_type": "execute_result"
    }
   ],
   "source": [
    "# 데이터 수집할 키워드 지정\n",
    "keywords = [\"방향제\"]\n",
    "keywords[0]"
   ]
  },
  {
   "cell_type": "markdown",
   "metadata": {},
   "source": [
    "## 크롤링"
   ]
  },
  {
   "cell_type": "code",
   "execution_count": 27,
   "metadata": {},
   "outputs": [],
   "source": [
    "# 크롬창 띄우기\n",
    "driver = webdriver.Chrome(\"/Users/aiden/Desktop/chromedriver\")  # 크롬 드라이버 로드\n",
    "driver.get(\"https://www.instagram.com/explore/tags/%EB%B0%A9%ED%96%A5%EC%A0%9C/?hl=ko\")  # \"#차량용방향제\" 검색\n",
    "time.sleep(5)"
   ]
  },
  {
   "cell_type": "code",
   "execution_count": 29,
   "metadata": {
    "scrolled": true
   },
   "outputs": [
    {
     "name": "stdout",
     "output_type": "stream",
     "text": [
      "0  에스로그 S 원데이클래스\n",
      "1 \n",
      "2 \n",
      "3  디프로젝트 방향제 너무 귀여워\n",
      "4  TWOTUCKGOM TTG\n",
      "5  글로벌900 GLOBAL900 방향제 볼링핀방향제 남친선물 볼링커플 볼링쟁이 선물 특별한선물 제작상품\n",
      "6  10개월아기 육아소통 애스타그램 9개월아기 결혼답례품 결혼준비 돌준맘 개업선물 육아맘 서포터즈 디퓨저답례품 방향제 웨딩답례품 예신 11개월아기 생일답례품 판촉물 차량용디퓨저 돌잔치준비 돌준비 개업답례품 답례품 황금돼지띠아기 초록앞치마 디퓨져 돌답례품 디퓨저 돌잔치 diffuser 행사답례품\n",
      "7  TWOTUCKGOM TTG\n",
      "8 \n",
      "9 \n",
      "{0: {'picture': 'https://scontent-ssn1-1.cdninstagram.com/v/t51.2885-15/e35/s1080x1080/101116579_295005784868406_2510078686332278429_n.jpg?_nc_ht=scontent-ssn1-1.cdninstagram.com&_nc_cat=106&_nc_ohc=wJokeBmynnUAX9aKk1U&oh=59ab1dca98bd781a939b9e7a3757cfad&oe=5F01E8EB', 'date': '2020년 5월 28일', 'like': '좋아요 983개', 'tag': ' 에스로그 S 원데이클래스'}, 1: {'picture': 'https://scontent-ssn1-1.cdninstagram.com/v/t51.2885-15/e35/s1080x1080/96495806_2848991312001102_3448687461555655302_n.jpg?_nc_ht=scontent-ssn1-1.cdninstagram.com&_nc_cat=106&_nc_ohc=-oSyD9SqqT0AX9WUSEJ&oh=8d626712571f0104af7f3391bebd49bf&oe=5F02C62F', 'date': '2020년 5월 9일', 'like': '좋아요 2,548개', 'tag': ''}, 2: {'picture': 'https://scontent-ssn1-1.cdninstagram.com/v/t51.2885-15/e35/98306554_142423987395640_552612323321143203_n.jpg?_nc_ht=scontent-ssn1-1.cdninstagram.com&_nc_cat=104&_nc_ohc=YiMzCRK_rvUAX-euFty&oh=767235ca6bd817e2b4fad3c738b2ac03&oe=5F02CC12', 'date': '2020년 5월 20일', 'like': '좋아요 1,172개', 'tag': ''}, 3: {'picture': 'https://scontent-ssn1-1.cdninstagram.com/v/t51.2885-15/e35/s1080x1080/101036017_591700071728502_3268887675320957013_n.jpg?_nc_ht=scontent-ssn1-1.cdninstagram.com&_nc_cat=106&_nc_ohc=290amhFOn_YAX9RrFpG&oh=691cfd1521c96919eba26f6ac91c2066&oe=5EFFBB05', 'date': '2020년 5월 28일', 'like': '좋아요 390개', 'tag': ' 디프로젝트 방향제 너무 귀여워'}, 4: {'picture': 'https://scontent-ssn1-1.cdninstagram.com/v/t51.2885-15/fr/e15/s1080x1080/101059457_890576571427547_1712338365655607885_n.jpg?_nc_ht=scontent-ssn1-1.cdninstagram.com&_nc_cat=111&_nc_ohc=GZBIM00f188AX8O4sSU&oh=efad4316f25bd508ebf4964e81147775&oe=5EFFE39A', 'date': '2020년 5월 25일', 'like': '좋아요 10,252개', 'tag': ' TWOTUCKGOM TTG'}, 5: {'picture': 'https://scontent-ssn1-1.cdninstagram.com/v/t51.2885-15/e35/97199650_244469490139964_932905147864124431_n.jpg?_nc_ht=scontent-ssn1-1.cdninstagram.com&_nc_cat=108&_nc_ohc=x7FI5lmLc-AAX9XwfhT&oh=16503dbd944760416ebce33b54006b22&oe=5EFEFE99', 'date': '2020년 5월 15일', 'like': '좋아요 133개', 'tag': ' 글로벌900 GLOBAL900 방향제 볼링핀방향제 남친선물 볼링커플 볼링쟁이 선물 특별한선물 제작상품'}, 6: {'picture': 'https://scontent-ssn1-1.cdninstagram.com/v/t51.2885-15/e35/99440788_686121972183942_8464236534837404429_n.jpg?_nc_ht=scontent-ssn1-1.cdninstagram.com&_nc_cat=106&_nc_ohc=4PlqcgQ8YLEAX8-k4O6&oh=27d53d11170e2693b0b5c330c37eadd3&oe=5F017C73', 'date': '2020년 5월 22일', 'like': '좋아요 123개', 'tag': ' 10개월아기 육아소통 애스타그램 9개월아기 결혼답례품 결혼준비 돌준맘 개업선물 육아맘 서포터즈 디퓨저답례품 방향제 웨딩답례품 예신 11개월아기 생일답례품 판촉물 차량용디퓨저 돌잔치준비 돌준비 개업답례품 답례품 황금돼지띠아기 초록앞치마 디퓨져 돌답례품 디퓨저 돌잔치 diffuser 행사답례품'}, 7: {'picture': 'https://scontent-ssn1-1.cdninstagram.com/v/t51.2885-15/fr/e15/s1080x1080/100654046_246500063114855_2283401331457294479_n.jpg?_nc_ht=scontent-ssn1-1.cdninstagram.com&_nc_cat=111&_nc_ohc=rZoWpmkHxaoAX8tdYLj&oh=8d96bd2c2d0456adb0aeadc84de4f4bd&oe=5F024DFC', 'date': '2020년 5월 25일', 'like': '좋아요 8,404개', 'tag': ' TWOTUCKGOM TTG'}, 8: {'picture': 'https://scontent-ssn1-1.cdninstagram.com/v/t51.2885-15/e35/s1080x1080/102394291_908356656349324_9186411428414239137_n.jpg?_nc_ht=scontent-ssn1-1.cdninstagram.com&_nc_cat=104&_nc_ohc=th_a7qDqk-QAX9u-X4k&oh=fb7195afa883deba8da56cede59c27d9&oe=5EFEF307', 'date': '2020년 6월 3일', 'like': '좋아요 4개', 'tag': ''}, 9: {'picture': 'https://scontent-ssn1-1.cdninstagram.com/v/t51.2885-15/e35/s1080x1080/82463094_2610570642593718_338727510201764287_n.jpg?_nc_ht=scontent-ssn1-1.cdninstagram.com&_nc_cat=106&_nc_ohc=5M2fFpxMDH8AX-SmODH&oh=fea4df6deaaeba3338a80d75266e4abd&oe=5F020EE3', 'date': '2020년 6월 3일', 'like': '좋아요 5개', 'tag': ''}}\n"
     ]
    }
   ],
   "source": [
    "for keyword in keywords:\n",
    "    dict = {}                                                       # 전체 데이터를 담을 딕셔너리 생성\n",
    "    # 사진 클릭\n",
    "    CSS_tran=\"div.Nnq7C.weEfm\"                         # 사진 버튼 정의 (\"div.Nnq7C.weEfm\")\n",
    "    tran_button = driver.find_element_by_css_selector(CSS_tran)     # 사진 버튼 찾기\n",
    "    AC(driver).move_to_element(tran_button).click().perform()       # 사진 버튼 클릭\n",
    "    time.sleep(1)\n",
    "\n",
    "    # 크롤링 시작\n",
    "    len_insta = 10   # 몇 개 글을 크롤링 할건지\n",
    "\n",
    "    for i in range(0, len_insta):    # range : 숫자가 1씩하는 함수\n",
    "\n",
    "        target_info = {}                                            # 사진별 데이터를 담을 딕셔너리 생성\n",
    "\n",
    "        try:    # 크롤링을 시도해라.\n",
    "            # 사진(pic) 크롤링 시작\n",
    "            overlays1 = \"div._2dDPU.CkGkG .FFVAD\"                   # 사진창 속 사진   \n",
    "            img = driver.find_element_by_css_selector(overlays1)    # 사진 선택\n",
    "            pic = img.get_attribute('src')                          # 사진 url 크롤링 완료\n",
    "            target_info['picture'] = pic\n",
    "            # print(target_info)\n",
    "\n",
    "            # 날짜(date) 크롤링 시작\n",
    "            overlays2 = \"div._2dDPU.CkGkG .c-Yi7 > time\"                  # 날짜 지정\n",
    "            datum2 = driver.find_element_by_css_selector(overlays2)     # 날짜 선택\n",
    "            date = datum2.get_attribute('title')\n",
    "    #         get_attribute('title')                                    # 날짜 크롤링 완료\n",
    "            target_info['date'] = date\n",
    "            # print(target_info)\n",
    "            # print(datalist)\n",
    "\n",
    "            # 좋아요(like) 크롤링 시작\n",
    "            overlays3 = \".Nm9Fw\"                                        # 리뷰창 속 날짜\n",
    "            datum3 = driver.find_element_by_css_selector(overlays3)     # 리뷰 선택\n",
    "            like = datum3.text                                          # 좋아요 크롤링 완료\n",
    "            target_info['like'] = like\n",
    "            # print(target_info)\n",
    "\n",
    "            # 해시태그(tag) 크롤링 시작\n",
    "            overlays4 = \".C7I1f.X7jCj\"                                  # 태그 지정\n",
    "            datum3 = driver.find_element_by_css_selector(overlays4)     # 태그 선택\n",
    "            tag_raw = datum3.text\n",
    "            tags = re.findall('#[A-Za-z0-9가-힣]+', tag_raw)            # \"\"#OOO\"만 뽑아오기(OOO: 한글,숫자,영어,_)\n",
    "            tag = ''.join(tags).replace(\"#\",\" \")                        # \"#\" 제거\n",
    "            target_info['tag'] = tag\n",
    "            # print(target_info)\n",
    "\n",
    "            dict[i] = target_info            # 토탈 딕셔너리로 만들기\n",
    "\n",
    "            print(\"{0}\".format(i), tag)\n",
    "\n",
    "            # 다음장 클릭\n",
    "            hit=0\n",
    "            while hit < 1:                          # 몇 번에 한번씩 크롤링할 것인지 숫자 지정\n",
    "                hit+=1\n",
    "                CSS_tran2=\"a._65Bje.coreSpriteRightPaginationArrow\"             # 다음 버튼 정의\n",
    "                tran_button2 = driver.find_element_by_css_selector(CSS_tran2)  # 다음 버튼 find\n",
    "                AC(driver).move_to_element(tran_button2).click().perform()     # 다음 버튼 클릭\n",
    "                time.sleep(2)\n",
    "\n",
    "        except:  # 에러가 나면 다음장을 클릭해라\n",
    "            # 다음장 클릭\n",
    "            CSS_tran2=\"a._65Bje.coreSpriteRightPaginationArrow\"             # 다음 버튼 정의\n",
    "            tran_button2 = driver.find_element_by_css_selector(CSS_tran2)  # 다음 버튼 find\n",
    "            AC(driver).move_to_element(tran_button2).click().perform()     # 다음 버튼 클릭\n",
    "            time.sleep(2)\n",
    "\n",
    "    print(dict)\n",
    "\n",
    "    # 판다스로 만들기 : 엑셀(테이블) 형식으로 만들기\n",
    "    import pandas as pd\n",
    "    result_df = pd.DataFrame.from_dict(dict, 'index')\n",
    "\n",
    "    n = result_df['picture'].count()\n",
    "\n",
    "    # csv 형식(엑셀이랑 비슷한 파일)으로 저장\n",
    "    result_df.to_csv(\"data/car_perfume({}).csv\".format(keyword), encoding='euc-kr')"
   ]
  },
  {
   "cell_type": "code",
   "execution_count": null,
   "metadata": {},
   "outputs": [],
   "source": [
    "num_pic = len(result_df['picture'])\n",
    "num_pic"
   ]
  },
  {
   "cell_type": "code",
   "execution_count": null,
   "metadata": {},
   "outputs": [],
   "source": [
    "# 이미지들 image 폴더에 다운받기\n",
    "import urllib.request\n",
    "\n",
    "for i in range(0, 50):\n",
    "    try:\n",
    "        index=result_df['picture'][i]\n",
    "        urllib.request.urlretrieve(index, \"image/{0}_{1}.jpg\".format(date, i))        \n",
    "    except:\n",
    "        pass"
   ]
  },
  {
   "cell_type": "markdown",
   "metadata": {},
   "source": [
    "끝"
   ]
  },
  {
   "cell_type": "code",
   "execution_count": null,
   "metadata": {},
   "outputs": [],
   "source": []
  }
 ],
 "metadata": {
  "kernelspec": {
   "display_name": "Python 3",
   "language": "python",
   "name": "python3"
  },
  "language_info": {
   "codemirror_mode": {
    "name": "ipython",
    "version": 3
   },
   "file_extension": ".py",
   "mimetype": "text/x-python",
   "name": "python",
   "nbconvert_exporter": "python",
   "pygments_lexer": "ipython3",
   "version": "3.7.6"
  }
 },
 "nbformat": 4,
 "nbformat_minor": 2
}
